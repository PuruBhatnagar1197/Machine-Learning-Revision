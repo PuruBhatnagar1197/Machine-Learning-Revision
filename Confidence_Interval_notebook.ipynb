{
  "nbformat": 4,
  "nbformat_minor": 0,
  "metadata": {
    "colab": {
      "provenance": [],
      "authorship_tag": "ABX9TyNDF1n8XRd7A/EqF4qY1Yyp",
      "include_colab_link": true
    },
    "kernelspec": {
      "name": "python3",
      "display_name": "Python 3"
    },
    "language_info": {
      "name": "python"
    }
  },
  "cells": [
    {
      "cell_type": "markdown",
      "metadata": {
        "id": "view-in-github",
        "colab_type": "text"
      },
      "source": [
        "<a href=\"https://colab.research.google.com/github/PuruBhatnagar1197/Machine-Learning-Revision/blob/main/Confidence_Interval_notebook.ipynb\" target=\"_parent\"><img src=\"https://colab.research.google.com/assets/colab-badge.svg\" alt=\"Open In Colab\"/></a>"
      ]
    },
    {
      "cell_type": "code",
      "execution_count": 5,
      "metadata": {
        "id": "Mz46X9bnkOJ9"
      },
      "outputs": [],
      "source": [
        "import pandas as pd\n",
        "import numpy as np\n",
        "from scipy.stats import norm,t\n",
        "np.random.seed(0)"
      ]
    },
    {
      "cell_type": "code",
      "source": [
        "N=1000\n",
        "mu=5\n",
        "sigma=2\n",
        "x=np.random.randn(N)*sigma+mu ### breaking down this function: np.random.randn(N)--> this will gives N data points from standard normal distribution (i.e mean=0 and sd=1) and if we multiply it with sigma (or SD) and adding mu will give us a normal distribution"
      ],
      "metadata": {
        "id": "RiShKpwAkcLb"
      },
      "execution_count": 30,
      "outputs": []
    },
    {
      "cell_type": "code",
      "source": [
        "### for Z distribution lets calculate the Confidence intervals:\n",
        "## we actually need to get zleft(0.025) and z right (0.975) to get the point for the distribution\n",
        "zleft=norm.ppf(0.025)\n",
        "zright=norm.ppf(0.975)\n",
        "mu_hat=np.mean(x)\n",
        "sigma_hat=np.std(x)\n",
        "lower=mu_hat+zleft*(sigma_hat/np.sqrt(N))\n",
        "right=mu_hat+zright*(sigma_hat/np.sqrt(N))\n",
        "print(mu_hat,lower,right) ### see this estimate mean is lying between lower and upper but here is one thing is to note that this mu_hat is not equivalent to mu it is just an estimate"
      ],
      "metadata": {
        "colab": {
          "base_uri": "https://localhost:8080/"
        },
        "id": "MMEDgrMYkmGl",
        "outputId": "28ba3318-9c67-420e-d2b3-f399cc59b329"
      },
      "execution_count": 31,
      "outputs": [
        {
          "output_type": "stream",
          "name": "stdout",
          "text": [
            "5.074545747818778 4.9504451719212845 5.198646323716272\n"
          ]
        }
      ]
    },
    {
      "cell_type": "code",
      "source": [
        "### for t distribution lets calculate the Confidence intervals:\n",
        "## we actually need to get tleft(0.025) and t right (0.975) to get the point for the distribution\n",
        "tleft=t.ppf(0.025,df=N-1)\n",
        "tright=t.ppf(0.975,df=N-1)\n",
        "mu_hat=np.mean(x)\n",
        "sigma_hat=np.std(x,ddof=1)\n",
        "lower=mu_hat+tleft*(sigma_hat/np.sqrt(N))\n",
        "right=mu_hat+tright*(sigma_hat/np.sqrt(N))\n",
        "print(mu_hat,lower,right) ### see this estimate mean is lying between lower and upper but here is one thing is to note that this mu_hat is not equivalent to mu it is just an estimate"
      ],
      "metadata": {
        "colab": {
          "base_uri": "https://localhost:8080/"
        },
        "id": "ceZWto71mmrD",
        "outputId": "96886262-93b3-4fa6-be48-ad972fa1e942"
      },
      "execution_count": 32,
      "outputs": [
        {
          "output_type": "stream",
          "name": "stdout",
          "text": [
            "5.074545747818778 4.950232463183018 5.198859032454538\n"
          ]
        }
      ]
    },
    {
      "cell_type": "code",
      "source": [
        "### since we know for CI we mean that every that we ran the experiment it is 95% likely that actual_mean will fall between lower and upper"
      ],
      "metadata": {
        "id": "t4-eHZCDoAcj"
      },
      "execution_count": 33,
      "outputs": []
    },
    {
      "cell_type": "code",
      "source": [
        "def experiment():\n",
        "    x=np.random.randn(N)*sigma+mu\n",
        "    mu_hat=np.mean(x)\n",
        "    sigma_hat=np.std(x,ddof=1)\n",
        "    tleft=t.ppf(0.025,df=N-1)\n",
        "    tright=t.ppf(0.975,df=N-1)\n",
        "    lower=mu_hat+tleft*(sigma_hat/np.sqrt(N))\n",
        "    right=mu_hat+tright*(sigma_hat/np.sqrt(N))\n",
        "    return mu>lower and mu<right\n",
        "\n"
      ],
      "metadata": {
        "id": "9oTbeH6XqELE"
      },
      "execution_count": 34,
      "outputs": []
    },
    {
      "cell_type": "code",
      "source": [
        "def run(A):\n",
        "    results=[experiment() for _ in range(A)]\n",
        "    return np.mean(results)"
      ],
      "metadata": {
        "id": "-dht27Xpq1y2"
      },
      "execution_count": 35,
      "outputs": []
    },
    {
      "cell_type": "code",
      "source": [
        "run(1000) ### see how this is coming 95%"
      ],
      "metadata": {
        "colab": {
          "base_uri": "https://localhost:8080/"
        },
        "id": "7G29RoLTrAvx",
        "outputId": "20e18d27-f8e8-4273-c3f3-bbc0cf94bc8c"
      },
      "execution_count": 36,
      "outputs": [
        {
          "output_type": "execute_result",
          "data": {
            "text/plain": [
              "0.941"
            ]
          },
          "metadata": {},
          "execution_count": 36
        }
      ]
    },
    {
      "cell_type": "code",
      "source": [],
      "metadata": {
        "id": "ZmW0JZqurCSv"
      },
      "execution_count": null,
      "outputs": []
    }
  ]
}