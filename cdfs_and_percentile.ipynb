{
  "nbformat": 4,
  "nbformat_minor": 0,
  "metadata": {
    "colab": {
      "provenance": [],
      "authorship_tag": "ABX9TyOmn24H8opZ7AhVgWlo6PlK",
      "include_colab_link": true
    },
    "kernelspec": {
      "name": "python3",
      "display_name": "Python 3"
    },
    "language_info": {
      "name": "python"
    }
  },
  "cells": [
    {
      "cell_type": "markdown",
      "metadata": {
        "id": "view-in-github",
        "colab_type": "text"
      },
      "source": [
        "<a href=\"https://colab.research.google.com/github/PuruBhatnagar1197/Machine-Learning-Revision/blob/main/cdfs_and_percentile.ipynb\" target=\"_parent\"><img src=\"https://colab.research.google.com/assets/colab-badge.svg\" alt=\"Open In Colab\"/></a>"
      ]
    },
    {
      "cell_type": "code",
      "execution_count": 1,
      "metadata": {
        "id": "GqtsxKYsPU_3"
      },
      "outputs": [],
      "source": [
        "### in this noebook we are trying to learn cdf and percentile"
      ]
    },
    {
      "cell_type": "code",
      "source": [
        "import pandas as pd\n",
        "import numpy as np\n",
        "from scipy.stats import norm\n",
        "np.random.seed(0)"
      ],
      "metadata": {
        "id": "ugH-0BKvRyjT"
      },
      "execution_count": 9,
      "outputs": []
    },
    {
      "cell_type": "code",
      "source": [
        "mu=170\n",
        "std=7"
      ],
      "metadata": {
        "id": "aBgr7tvkR7Ed"
      },
      "execution_count": 10,
      "outputs": []
    },
    {
      "cell_type": "code",
      "source": [
        "x=norm.rvs(loc=mu, scale=std, size=100) ### generating samples"
      ],
      "metadata": {
        "id": "AMUzocTKSATf"
      },
      "execution_count": 11,
      "outputs": []
    },
    {
      "cell_type": "code",
      "source": [
        "## MLE mean\n",
        "x.mean()"
      ],
      "metadata": {
        "colab": {
          "base_uri": "https://localhost:8080/"
        },
        "id": "NeYj_6gqSGDW",
        "outputId": "ce9c0309-0eca-4382-ae74-79f5eab75408"
      },
      "execution_count": 12,
      "outputs": [
        {
          "output_type": "execute_result",
          "data": {
            "text/plain": [
              "170.41865610874137"
            ]
          },
          "metadata": {},
          "execution_count": 12
        }
      ]
    },
    {
      "cell_type": "code",
      "source": [
        "## mle var (x-x.mean)**2/N and std\n",
        "x.var(), x.std()"
      ],
      "metadata": {
        "colab": {
          "base_uri": "https://localhost:8080/"
        },
        "id": "X0I5GiSGSX5_",
        "outputId": "b1bd2671-4c2d-49f8-a7a8-58cec78ad1c5"
      },
      "execution_count": 14,
      "outputs": [
        {
          "output_type": "execute_result",
          "data": {
            "text/plain": [
              "(49.77550434153163, 7.055175713016057)"
            ]
          },
          "metadata": {},
          "execution_count": 14
        }
      ]
    },
    {
      "cell_type": "code",
      "source": [
        "### unbiased variances (this is basically (x-x.mean)**2/N-1)"
      ],
      "metadata": {
        "id": "GXKCedY2SbDs"
      },
      "execution_count": 15,
      "outputs": []
    },
    {
      "cell_type": "code",
      "source": [
        "x.var(ddof=1) ### here ddof is actually called degree of freedom and it is basically what is the value yo want to subtract from n"
      ],
      "metadata": {
        "colab": {
          "base_uri": "https://localhost:8080/"
        },
        "id": "wqyyWkyHS1Ws",
        "outputId": "cddeb9dc-4bab-441b-88da-23f03db115ec"
      },
      "execution_count": 20,
      "outputs": [
        {
          "output_type": "execute_result",
          "data": {
            "text/plain": [
              "50.278287213668314"
            ]
          },
          "metadata": {},
          "execution_count": 20
        }
      ]
    },
    {
      "cell_type": "code",
      "source": [
        "### what is the 95th percentile?\n",
        "print(np.percentile(x,95)) ### 95th percentile\n",
        "# it can also be calculated by using the below function but you will see the difference between both results its just because how the fucntion work\n",
        "print(norm.ppf(0.95,mu,std))"
      ],
      "metadata": {
        "colab": {
          "base_uri": "https://localhost:8080/"
        },
        "id": "c9MiwN-AS32b",
        "outputId": "86433052-9580-4683-d61f-5bbed523a09d"
      },
      "execution_count": 23,
      "outputs": [
        {
          "output_type": "stream",
          "name": "stdout",
          "text": [
            "182.5296840810263\n",
            "181.5139753886603\n"
          ]
        }
      ]
    },
    {
      "cell_type": "code",
      "source": [
        "### what is the percentile till 160 cm?\n",
        "norm.cdf(160,mu,std)"
      ],
      "metadata": {
        "colab": {
          "base_uri": "https://localhost:8080/"
        },
        "id": "OaKQKNExV7KP",
        "outputId": "4ebdcc7b-5b5f-4915-9ab1-444ef183db12"
      },
      "execution_count": 24,
      "outputs": [
        {
          "output_type": "execute_result",
          "data": {
            "text/plain": [
              "0.07656372550983476"
            ]
          },
          "metadata": {},
          "execution_count": 24
        }
      ]
    },
    {
      "cell_type": "code",
      "source": [
        "### if you are 180 cm what is the probability that someone is taller than you?\n",
        "print(1-norm.cdf(180,mu,std)) ### this 1-norm.cdf(value, mu, std)--> is called survival fucntion\n",
        "\n",
        "### way to get survival function in norm\n",
        "print(norm.sf(180,mu,std))"
      ],
      "metadata": {
        "colab": {
          "base_uri": "https://localhost:8080/"
        },
        "id": "7d6kUuf3W8IA",
        "outputId": "4fbbab25-a5c9-40fd-984c-c99c288b60b6"
      },
      "execution_count": 26,
      "outputs": [
        {
          "output_type": "stream",
          "name": "stdout",
          "text": [
            "0.07656372550983481\n",
            "0.07656372550983476\n"
          ]
        }
      ]
    },
    {
      "cell_type": "code",
      "source": [],
      "metadata": {
        "id": "V6tPo7qGW8Ee"
      },
      "execution_count": null,
      "outputs": []
    },
    {
      "cell_type": "code",
      "source": [],
      "metadata": {
        "id": "dARbc9sTW8CX"
      },
      "execution_count": null,
      "outputs": []
    },
    {
      "cell_type": "code",
      "source": [],
      "metadata": {
        "id": "835Hq_ylW8AW"
      },
      "execution_count": null,
      "outputs": []
    },
    {
      "cell_type": "code",
      "source": [],
      "metadata": {
        "id": "OFAZJ4dnW7-T"
      },
      "execution_count": null,
      "outputs": []
    },
    {
      "cell_type": "code",
      "source": [],
      "metadata": {
        "id": "a-LLEPulW78C"
      },
      "execution_count": null,
      "outputs": []
    },
    {
      "cell_type": "code",
      "source": [],
      "metadata": {
        "id": "fNuFbWBkW75k"
      },
      "execution_count": null,
      "outputs": []
    },
    {
      "cell_type": "code",
      "source": [],
      "metadata": {
        "id": "8sE15TcmW73a"
      },
      "execution_count": null,
      "outputs": []
    },
    {
      "cell_type": "code",
      "source": [],
      "metadata": {
        "id": "gomVYDkUW71G"
      },
      "execution_count": null,
      "outputs": []
    }
  ]
}