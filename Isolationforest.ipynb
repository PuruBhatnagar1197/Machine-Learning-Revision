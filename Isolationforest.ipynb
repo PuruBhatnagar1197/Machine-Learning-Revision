{
  "cells": [
    {
      "cell_type": "markdown",
      "metadata": {
        "id": "view-in-github",
        "colab_type": "text"
      },
      "source": [
        "<a href=\"https://colab.research.google.com/github/PuruBhatnagar1197/Machine-Learning-Revision/blob/main/Isolationforest.ipynb\" target=\"_parent\"><img src=\"https://colab.research.google.com/assets/colab-badge.svg\" alt=\"Open In Colab\"/></a>"
      ]
    },
    {
      "cell_type": "code",
      "execution_count": null,
      "metadata": {
        "id": "ZZ9gMUubs_6e"
      },
      "outputs": [],
      "source": [
        "import pandas as pd\n",
        "import numpy as np\n",
        "import matplotlib.pyplot as plt\n",
        "import seaborn as sns"
      ]
    },
    {
      "cell_type": "code",
      "execution_count": null,
      "metadata": {
        "id": "5f3Di8l6tFzI"
      },
      "outputs": [],
      "source": [
        "df=pd.read_csv(r\"/content/train.csv\")"
      ]
    },
    {
      "cell_type": "code",
      "execution_count": null,
      "metadata": {
        "colab": {
          "base_uri": "https://localhost:8080/",
          "height": 206
        },
        "id": "qbDeuNgBxnb6",
        "outputId": "9ee2a4f5-6384-44ea-a62f-565b36f76c6e"
      },
      "outputs": [
        {
          "data": {
            "application/vnd.google.colaboratory.intrinsic+json": {
              "summary": "{\n  \"name\": \"df\",\n  \"rows\": 15830,\n  \"fields\": [\n    {\n      \"column\": \"timestamp\",\n      \"properties\": {\n        \"dtype\": \"number\",\n        \"std\": 1370961,\n        \"min\": 1425008573,\n        \"max\": 1429757273,\n        \"num_unique_values\": 15830,\n        \"samples\": [\n          1428009473,\n          1425059273,\n          1428124073\n        ],\n        \"semantic_type\": \"\",\n        \"description\": \"\"\n      }\n    },\n    {\n      \"column\": \"value\",\n      \"properties\": {\n        \"dtype\": \"number\",\n        \"std\": 321,\n        \"min\": 0,\n        \"max\": 13479,\n        \"num_unique_values\": 631,\n        \"samples\": [\n          3738,\n          996,\n          308\n        ],\n        \"semantic_type\": \"\",\n        \"description\": \"\"\n      }\n    },\n    {\n      \"column\": \"is_anomaly\",\n      \"properties\": {\n        \"dtype\": \"boolean\",\n        \"num_unique_values\": 2,\n        \"samples\": [\n          true,\n          false\n        ],\n        \"semantic_type\": \"\",\n        \"description\": \"\"\n      }\n    },\n    {\n      \"column\": \"predicted\",\n      \"properties\": {\n        \"dtype\": \"number\",\n        \"std\": 92.45052046824686,\n        \"min\": -281.38907,\n        \"max\": 2716.1272,\n        \"num_unique_values\": 15827,\n        \"samples\": [\n          142.51704,\n          242.33545\n        ],\n        \"semantic_type\": \"\",\n        \"description\": \"\"\n      }\n    }\n  ]\n}",
              "type": "dataframe",
              "variable_name": "df"
            },
            "text/html": [
              "\n",
              "  <div id=\"df-67bd338f-737c-4a40-bd6a-959e91c19dbb\" class=\"colab-df-container\">\n",
              "    <div>\n",
              "<style scoped>\n",
              "    .dataframe tbody tr th:only-of-type {\n",
              "        vertical-align: middle;\n",
              "    }\n",
              "\n",
              "    .dataframe tbody tr th {\n",
              "        vertical-align: top;\n",
              "    }\n",
              "\n",
              "    .dataframe thead th {\n",
              "        text-align: right;\n",
              "    }\n",
              "</style>\n",
              "<table border=\"1\" class=\"dataframe\">\n",
              "  <thead>\n",
              "    <tr style=\"text-align: right;\">\n",
              "      <th></th>\n",
              "      <th>timestamp</th>\n",
              "      <th>value</th>\n",
              "      <th>is_anomaly</th>\n",
              "      <th>predicted</th>\n",
              "    </tr>\n",
              "  </thead>\n",
              "  <tbody>\n",
              "    <tr>\n",
              "      <th>0</th>\n",
              "      <td>1425008573</td>\n",
              "      <td>42</td>\n",
              "      <td>False</td>\n",
              "      <td>44.072500</td>\n",
              "    </tr>\n",
              "    <tr>\n",
              "      <th>1</th>\n",
              "      <td>1425008873</td>\n",
              "      <td>41</td>\n",
              "      <td>False</td>\n",
              "      <td>50.709390</td>\n",
              "    </tr>\n",
              "    <tr>\n",
              "      <th>2</th>\n",
              "      <td>1425009173</td>\n",
              "      <td>41</td>\n",
              "      <td>False</td>\n",
              "      <td>81.405120</td>\n",
              "    </tr>\n",
              "    <tr>\n",
              "      <th>3</th>\n",
              "      <td>1425009473</td>\n",
              "      <td>61</td>\n",
              "      <td>False</td>\n",
              "      <td>39.950367</td>\n",
              "    </tr>\n",
              "    <tr>\n",
              "      <th>4</th>\n",
              "      <td>1425009773</td>\n",
              "      <td>44</td>\n",
              "      <td>False</td>\n",
              "      <td>35.350160</td>\n",
              "    </tr>\n",
              "  </tbody>\n",
              "</table>\n",
              "</div>\n",
              "    <div class=\"colab-df-buttons\">\n",
              "\n",
              "  <div class=\"colab-df-container\">\n",
              "    <button class=\"colab-df-convert\" onclick=\"convertToInteractive('df-67bd338f-737c-4a40-bd6a-959e91c19dbb')\"\n",
              "            title=\"Convert this dataframe to an interactive table.\"\n",
              "            style=\"display:none;\">\n",
              "\n",
              "  <svg xmlns=\"http://www.w3.org/2000/svg\" height=\"24px\" viewBox=\"0 -960 960 960\">\n",
              "    <path d=\"M120-120v-720h720v720H120Zm60-500h600v-160H180v160Zm220 220h160v-160H400v160Zm0 220h160v-160H400v160ZM180-400h160v-160H180v160Zm440 0h160v-160H620v160ZM180-180h160v-160H180v160Zm440 0h160v-160H620v160Z\"/>\n",
              "  </svg>\n",
              "    </button>\n",
              "\n",
              "  <style>\n",
              "    .colab-df-container {\n",
              "      display:flex;\n",
              "      gap: 12px;\n",
              "    }\n",
              "\n",
              "    .colab-df-convert {\n",
              "      background-color: #E8F0FE;\n",
              "      border: none;\n",
              "      border-radius: 50%;\n",
              "      cursor: pointer;\n",
              "      display: none;\n",
              "      fill: #1967D2;\n",
              "      height: 32px;\n",
              "      padding: 0 0 0 0;\n",
              "      width: 32px;\n",
              "    }\n",
              "\n",
              "    .colab-df-convert:hover {\n",
              "      background-color: #E2EBFA;\n",
              "      box-shadow: 0px 1px 2px rgba(60, 64, 67, 0.3), 0px 1px 3px 1px rgba(60, 64, 67, 0.15);\n",
              "      fill: #174EA6;\n",
              "    }\n",
              "\n",
              "    .colab-df-buttons div {\n",
              "      margin-bottom: 4px;\n",
              "    }\n",
              "\n",
              "    [theme=dark] .colab-df-convert {\n",
              "      background-color: #3B4455;\n",
              "      fill: #D2E3FC;\n",
              "    }\n",
              "\n",
              "    [theme=dark] .colab-df-convert:hover {\n",
              "      background-color: #434B5C;\n",
              "      box-shadow: 0px 1px 3px 1px rgba(0, 0, 0, 0.15);\n",
              "      filter: drop-shadow(0px 1px 2px rgba(0, 0, 0, 0.3));\n",
              "      fill: #FFFFFF;\n",
              "    }\n",
              "  </style>\n",
              "\n",
              "    <script>\n",
              "      const buttonEl =\n",
              "        document.querySelector('#df-67bd338f-737c-4a40-bd6a-959e91c19dbb button.colab-df-convert');\n",
              "      buttonEl.style.display =\n",
              "        google.colab.kernel.accessAllowed ? 'block' : 'none';\n",
              "\n",
              "      async function convertToInteractive(key) {\n",
              "        const element = document.querySelector('#df-67bd338f-737c-4a40-bd6a-959e91c19dbb');\n",
              "        const dataTable =\n",
              "          await google.colab.kernel.invokeFunction('convertToInteractive',\n",
              "                                                    [key], {});\n",
              "        if (!dataTable) return;\n",
              "\n",
              "        const docLinkHtml = 'Like what you see? Visit the ' +\n",
              "          '<a target=\"_blank\" href=https://colab.research.google.com/notebooks/data_table.ipynb>data table notebook</a>'\n",
              "          + ' to learn more about interactive tables.';\n",
              "        element.innerHTML = '';\n",
              "        dataTable['output_type'] = 'display_data';\n",
              "        await google.colab.output.renderOutput(dataTable, element);\n",
              "        const docLink = document.createElement('div');\n",
              "        docLink.innerHTML = docLinkHtml;\n",
              "        element.appendChild(docLink);\n",
              "      }\n",
              "    </script>\n",
              "  </div>\n",
              "\n",
              "\n",
              "<div id=\"df-2a079fa1-5f0c-4aac-a7ce-60256894d4d4\">\n",
              "  <button class=\"colab-df-quickchart\" onclick=\"quickchart('df-2a079fa1-5f0c-4aac-a7ce-60256894d4d4')\"\n",
              "            title=\"Suggest charts\"\n",
              "            style=\"display:none;\">\n",
              "\n",
              "<svg xmlns=\"http://www.w3.org/2000/svg\" height=\"24px\"viewBox=\"0 0 24 24\"\n",
              "     width=\"24px\">\n",
              "    <g>\n",
              "        <path d=\"M19 3H5c-1.1 0-2 .9-2 2v14c0 1.1.9 2 2 2h14c1.1 0 2-.9 2-2V5c0-1.1-.9-2-2-2zM9 17H7v-7h2v7zm4 0h-2V7h2v10zm4 0h-2v-4h2v4z\"/>\n",
              "    </g>\n",
              "</svg>\n",
              "  </button>\n",
              "\n",
              "<style>\n",
              "  .colab-df-quickchart {\n",
              "      --bg-color: #E8F0FE;\n",
              "      --fill-color: #1967D2;\n",
              "      --hover-bg-color: #E2EBFA;\n",
              "      --hover-fill-color: #174EA6;\n",
              "      --disabled-fill-color: #AAA;\n",
              "      --disabled-bg-color: #DDD;\n",
              "  }\n",
              "\n",
              "  [theme=dark] .colab-df-quickchart {\n",
              "      --bg-color: #3B4455;\n",
              "      --fill-color: #D2E3FC;\n",
              "      --hover-bg-color: #434B5C;\n",
              "      --hover-fill-color: #FFFFFF;\n",
              "      --disabled-bg-color: #3B4455;\n",
              "      --disabled-fill-color: #666;\n",
              "  }\n",
              "\n",
              "  .colab-df-quickchart {\n",
              "    background-color: var(--bg-color);\n",
              "    border: none;\n",
              "    border-radius: 50%;\n",
              "    cursor: pointer;\n",
              "    display: none;\n",
              "    fill: var(--fill-color);\n",
              "    height: 32px;\n",
              "    padding: 0;\n",
              "    width: 32px;\n",
              "  }\n",
              "\n",
              "  .colab-df-quickchart:hover {\n",
              "    background-color: var(--hover-bg-color);\n",
              "    box-shadow: 0 1px 2px rgba(60, 64, 67, 0.3), 0 1px 3px 1px rgba(60, 64, 67, 0.15);\n",
              "    fill: var(--button-hover-fill-color);\n",
              "  }\n",
              "\n",
              "  .colab-df-quickchart-complete:disabled,\n",
              "  .colab-df-quickchart-complete:disabled:hover {\n",
              "    background-color: var(--disabled-bg-color);\n",
              "    fill: var(--disabled-fill-color);\n",
              "    box-shadow: none;\n",
              "  }\n",
              "\n",
              "  .colab-df-spinner {\n",
              "    border: 2px solid var(--fill-color);\n",
              "    border-color: transparent;\n",
              "    border-bottom-color: var(--fill-color);\n",
              "    animation:\n",
              "      spin 1s steps(1) infinite;\n",
              "  }\n",
              "\n",
              "  @keyframes spin {\n",
              "    0% {\n",
              "      border-color: transparent;\n",
              "      border-bottom-color: var(--fill-color);\n",
              "      border-left-color: var(--fill-color);\n",
              "    }\n",
              "    20% {\n",
              "      border-color: transparent;\n",
              "      border-left-color: var(--fill-color);\n",
              "      border-top-color: var(--fill-color);\n",
              "    }\n",
              "    30% {\n",
              "      border-color: transparent;\n",
              "      border-left-color: var(--fill-color);\n",
              "      border-top-color: var(--fill-color);\n",
              "      border-right-color: var(--fill-color);\n",
              "    }\n",
              "    40% {\n",
              "      border-color: transparent;\n",
              "      border-right-color: var(--fill-color);\n",
              "      border-top-color: var(--fill-color);\n",
              "    }\n",
              "    60% {\n",
              "      border-color: transparent;\n",
              "      border-right-color: var(--fill-color);\n",
              "    }\n",
              "    80% {\n",
              "      border-color: transparent;\n",
              "      border-right-color: var(--fill-color);\n",
              "      border-bottom-color: var(--fill-color);\n",
              "    }\n",
              "    90% {\n",
              "      border-color: transparent;\n",
              "      border-bottom-color: var(--fill-color);\n",
              "    }\n",
              "  }\n",
              "</style>\n",
              "\n",
              "  <script>\n",
              "    async function quickchart(key) {\n",
              "      const quickchartButtonEl =\n",
              "        document.querySelector('#' + key + ' button');\n",
              "      quickchartButtonEl.disabled = true;  // To prevent multiple clicks.\n",
              "      quickchartButtonEl.classList.add('colab-df-spinner');\n",
              "      try {\n",
              "        const charts = await google.colab.kernel.invokeFunction(\n",
              "            'suggestCharts', [key], {});\n",
              "      } catch (error) {\n",
              "        console.error('Error during call to suggestCharts:', error);\n",
              "      }\n",
              "      quickchartButtonEl.classList.remove('colab-df-spinner');\n",
              "      quickchartButtonEl.classList.add('colab-df-quickchart-complete');\n",
              "    }\n",
              "    (() => {\n",
              "      let quickchartButtonEl =\n",
              "        document.querySelector('#df-2a079fa1-5f0c-4aac-a7ce-60256894d4d4 button');\n",
              "      quickchartButtonEl.style.display =\n",
              "        google.colab.kernel.accessAllowed ? 'block' : 'none';\n",
              "    })();\n",
              "  </script>\n",
              "</div>\n",
              "\n",
              "    </div>\n",
              "  </div>\n"
            ],
            "text/plain": [
              "    timestamp  value  is_anomaly  predicted\n",
              "0  1425008573     42       False  44.072500\n",
              "1  1425008873     41       False  50.709390\n",
              "2  1425009173     41       False  81.405120\n",
              "3  1425009473     61       False  39.950367\n",
              "4  1425009773     44       False  35.350160"
            ]
          },
          "execution_count": 92,
          "metadata": {},
          "output_type": "execute_result"
        }
      ],
      "source": [
        "df.head()"
      ]
    },
    {
      "cell_type": "code",
      "execution_count": null,
      "metadata": {
        "colab": {
          "base_uri": "https://localhost:8080/",
          "height": 462
        },
        "id": "3IVovpYayl1-",
        "outputId": "baf94415-212a-43ba-abf5-09496d929d9c"
      },
      "outputs": [
        {
          "data": {
            "text/plain": [
              "<matplotlib.legend.Legend at 0x7d7ccb86b100>"
            ]
          },
          "execution_count": 93,
          "metadata": {},
          "output_type": "execute_result"
        },
        {
          "data": {
            "image/png": "[encoded data removed]",
            "text/plain": [
              "<Figure size 640x480 with 1 Axes>"
            ]
          },
          "metadata": {},
          "output_type": "display_data"
        }
      ],
      "source": [
        "plt.scatter(df['value'], df['timestamp'], c=df['is_anomaly'], label=True)\n",
        "plt.legend()"
      ]
    },
    {
      "cell_type": "code",
      "execution_count": null,
      "metadata": {
        "id": "mucMmPPuxoY_"
      },
      "outputs": [],
      "source": [
        "from sklearn.model_selection import train_test_split\n",
        "from sklearn.metrics import accuracy_score, classification_report"
      ]
    },
    {
      "cell_type": "code",
      "execution_count": null,
      "metadata": {
        "id": "OC_C5eZhx6-7"
      },
      "outputs": [],
      "source": [
        "x_train, x_test,y_train, y_test=train_test_split(df[['timestamp','value','predicted']], df['is_anomaly'],test_size=0.2, random_state=42)"
      ]
    },
    {
      "cell_type": "code",
      "execution_count": null,
      "metadata": {
        "id": "wul-gddoyNqS"
      },
      "outputs": [],
      "source": [
        "from sklearn.ensemble import IsolationForest"
      ]
    },
    {
      "cell_type": "markdown",
      "metadata": {
        "id": "eSJ7WlQZ6hD8"
      },
      "source": [
        "### normal IsolationForest"
      ]
    },
    {
      "cell_type": "code",
      "execution_count": null,
      "metadata": {
        "id": "ldSoDi9syR-D"
      },
      "outputs": [],
      "source": [
        "clf=IsolationForest()"
      ]
    },
    {
      "cell_type": "code",
      "execution_count": null,
      "metadata": {
        "colab": {
          "base_uri": "https://localhost:8080/",
          "height": 74
        },
        "id": "RU_77gE4yxYD",
        "outputId": "6e028f39-e1a8-4a7f-f6fe-348ce671664b"
      },
      "outputs": [
        {
          "data": {
            "text/html": [
              "<style>#sk-container-id-6 {color: black;background-color: white;}#sk-container-id-6 pre{padding: 0;}#sk-container-id-6 div.sk-toggleable {background-color: white;}#sk-container-id-6 label.sk-toggleable__label {cursor: pointer;display: block;width: 100%;margin-bottom: 0;padding: 0.3em;box-sizing: border-box;text-align: center;}#sk-container-id-6 label.sk-toggleable__label-arrow:before {content: \"▸\";float: left;margin-right: 0.25em;color: #696969;}#sk-container-id-6 label.sk-toggleable__label-arrow:hover:before {color: black;}#sk-container-id-6 div.sk-estimator:hover label.sk-toggleable__label-arrow:before {color: black;}#sk-container-id-6 div.sk-toggleable__content {max-height: 0;max-width: 0;overflow: hidden;text-align: left;background-color: #f0f8ff;}#sk-container-id-6 div.sk-toggleable__content pre {margin: 0.2em;color: black;border-radius: 0.25em;background-color: #f0f8ff;}#sk-container-id-6 input.sk-toggleable__control:checked~div.sk-toggleable__content {max-height: 200px;max-width: 100%;overflow: auto;}#sk-container-id-6 input.sk-toggleable__control:checked~label.sk-toggleable__label-arrow:before {content: \"▾\";}#sk-container-id-6 div.sk-estimator input.sk-toggleable__control:checked~label.sk-toggleable__label {background-color: #d4ebff;}#sk-container-id-6 div.sk-label input.sk-toggleable__control:checked~label.sk-toggleable__label {background-color: #d4ebff;}#sk-container-id-6 input.sk-hidden--visually {border: 0;clip: rect(1px 1px 1px 1px);clip: rect(1px, 1px, 1px, 1px);height: 1px;margin: -1px;overflow: hidden;padding: 0;position: absolute;width: 1px;}#sk-container-id-6 div.sk-estimator {font-family: monospace;background-color: #f0f8ff;border: 1px dotted black;border-radius: 0.25em;box-sizing: border-box;margin-bottom: 0.5em;}#sk-container-id-6 div.sk-estimator:hover {background-color: #d4ebff;}#sk-container-id-6 div.sk-parallel-item::after {content: \"\";width: 100%;border-bottom: 1px solid gray;flex-grow: 1;}#sk-container-id-6 div.sk-label:hover label.sk-toggleable__label {background-color: #d4ebff;}#sk-container-id-6 div.sk-serial::before {content: \"\";position: absolute;border-left: 1px solid gray;box-sizing: border-box;top: 0;bottom: 0;left: 50%;z-index: 0;}#sk-container-id-6 div.sk-serial {display: flex;flex-direction: column;align-items: center;background-color: white;padding-right: 0.2em;padding-left: 0.2em;position: relative;}#sk-container-id-6 div.sk-item {position: relative;z-index: 1;}#sk-container-id-6 div.sk-parallel {display: flex;align-items: stretch;justify-content: center;background-color: white;position: relative;}#sk-container-id-6 div.sk-item::before, #sk-container-id-6 div.sk-parallel-item::before {content: \"\";position: absolute;border-left: 1px solid gray;box-sizing: border-box;top: 0;bottom: 0;left: 50%;z-index: -1;}#sk-container-id-6 div.sk-parallel-item {display: flex;flex-direction: column;z-index: 1;position: relative;background-color: white;}#sk-container-id-6 div.sk-parallel-item:first-child::after {align-self: flex-end;width: 50%;}#sk-container-id-6 div.sk-parallel-item:last-child::after {align-self: flex-start;width: 50%;}#sk-container-id-6 div.sk-parallel-item:only-child::after {width: 0;}#sk-container-id-6 div.sk-dashed-wrapped {border: 1px dashed gray;margin: 0 0.4em 0.5em 0.4em;box-sizing: border-box;padding-bottom: 0.4em;background-color: white;}#sk-container-id-6 div.sk-label label {font-family: monospace;font-weight: bold;display: inline-block;line-height: 1.2em;}#sk-container-id-6 div.sk-label-container {text-align: center;}#sk-container-id-6 div.sk-container {/* jupyter's `normalize.less` sets `[hidden] { display: none; }` but bootstrap.min.css set `[hidden] { display: none !important; }` so we also need the `!important` here to be able to override the default hidden behavior on the sphinx rendered scikit-learn.org. See: https://github.com/scikit-learn/scikit-learn/issues/21755 */display: inline-block !important;position: relative;}#sk-container-id-6 div.sk-text-repr-fallback {display: none;}</style><div id=\"sk-container-id-6\" class=\"sk-top-container\"><div class=\"sk-text-repr-fallback\"><pre>IsolationForest()</pre><b>In a Jupyter environment, please rerun this cell to show the HTML representation or trust the notebook. <br />On GitHub, the HTML representation is unable to render, please try loading this page with nbviewer.org.</b></div><div class=\"sk-container\" hidden><div class=\"sk-item\"><div class=\"sk-estimator sk-toggleable\"><input class=\"sk-toggleable__control sk-hidden--visually\" id=\"sk-estimator-id-6\" type=\"checkbox\" checked><label for=\"sk-estimator-id-6\" class=\"sk-toggleable__label sk-toggleable__label-arrow\">IsolationForest</label><div class=\"sk-toggleable__content\"><pre>IsolationForest()</pre></div></div></div></div></div>"
            ],
            "text/plain": [
              "IsolationForest()"
            ]
          },
          "execution_count": 98,
          "metadata": {},
          "output_type": "execute_result"
        }
      ],
      "source": [
        "clf.fit(x_train,y_train)"
      ]
    },
    {
      "cell_type": "code",
      "execution_count": null,
      "metadata": {
        "id": "9_e_LDFqyzoq"
      },
      "outputs": [],
      "source": [
        "pred=clf.predict(x_test)"
      ]
    },
    {
      "cell_type": "code",
      "execution_count": null,
      "metadata": {
        "colab": {
          "base_uri": "https://localhost:8080/"
        },
        "id": "r0-uztWy5huY",
        "outputId": "1963b920-58cd-4d15-fa5a-e7e99058057a"
      },
      "outputs": [
        {
          "data": {
            "text/plain": [
              "array([ 1, -1,  1, ...,  1,  1, -1])"
            ]
          },
          "execution_count": 100,
          "metadata": {},
          "output_type": "execute_result"
        }
      ],
      "source": [
        "pred"
      ]
    },
    {
      "cell_type": "code",
      "execution_count": null,
      "metadata": {
        "id": "Gs9VHymzy2NQ"
      },
      "outputs": [],
      "source": [
        "pred[pred==1]=1\n",
        "pred[pred==-1]=0\n"
      ]
    },
    {
      "cell_type": "code",
      "execution_count": null,
      "metadata": {
        "colab": {
          "base_uri": "https://localhost:8080/"
        },
        "id": "l_5iGeqny8M0",
        "outputId": "65c45e8c-d761-4e45-80b5-6e3385483ef0"
      },
      "outputs": [
        {
          "name": "stdout",
          "output_type": "stream",
          "text": [
            "              precision    recall  f1-score   support\n",
            "\n",
            "       False       0.75      0.08      0.15      2997\n",
            "        True       0.03      0.50      0.06       169\n",
            "\n",
            "    accuracy                           0.11      3166\n",
            "   macro avg       0.39      0.29      0.10      3166\n",
            "weighted avg       0.71      0.11      0.15      3166\n",
            "\n"
          ]
        }
      ],
      "source": [
        "print(classification_report(y_test,pred))"
      ]
    },
    {
      "cell_type": "code",
      "execution_count": null,
      "metadata": {
        "colab": {
          "base_uri": "https://localhost:8080/",
          "height": 462
        },
        "id": "1tUoLsCKzKLp",
        "outputId": "82d54e4e-064f-4164-b4b0-6040342e3371"
      },
      "outputs": [
        {
          "data": {
            "text/plain": [
              "<matplotlib.legend.Legend at 0x7d7ccb8d7070>"
            ]
          },
          "execution_count": 103,
          "metadata": {},
          "output_type": "execute_result"
        },
        {
          "data": {
            "image/png": "[encoded data removed]",
            "text/plain": [
              "<Figure size 640x480 with 1 Axes>"
            ]
          },
          "metadata": {},
          "output_type": "display_data"
        }
      ],
      "source": [
        "plt.scatter(x_test['value'], x_test['timestamp'], c=pred, label=True)\n",
        "plt.legend()"
      ]
    },
    {
      "cell_type": "code",
      "execution_count": null,
      "metadata": {
        "colab": {
          "base_uri": "https://localhost:8080/",
          "height": 462
        },
        "id": "lr8dRxSw2-tU",
        "outputId": "36cf3efe-aea8-4209-bcbc-6bd4b62d4e71"
      },
      "outputs": [
        {
          "data": {
            "text/plain": [
              "<matplotlib.legend.Legend at 0x7d7ccb8d4be0>"
            ]
          },
          "execution_count": 104,
          "metadata": {},
          "output_type": "execute_result"
        },
        {
          "data": {
            "image/png": "[encoded data removed]",
            "text/plain": [
              "<Figure size 640x480 with 1 Axes>"
            ]
          },
          "metadata": {},
          "output_type": "display_data"
        }
      ],
      "source": [
        "plt.scatter(x_test['value'], x_test['timestamp'], c=y_test, label=True)\n",
        "plt.legend()"
      ]
    },
    {
      "cell_type": "code",
      "execution_count": null,
      "metadata": {
        "colab": {
          "base_uri": "https://localhost:8080/"
        },
        "id": "FdHIDpQk3MGI",
        "outputId": "b74682db-7a14-4517-8823-2b0bf897d293"
      },
      "outputs": [
        {
          "data": {
            "text/plain": [
              "is_anomaly\n",
              "False    2997\n",
              "True      169\n",
              "Name: count, dtype: int64"
            ]
          },
          "execution_count": 105,
          "metadata": {},
          "output_type": "execute_result"
        }
      ],
      "source": [
        "pd.Series(y_test).value_counts()"
      ]
    },
    {
      "cell_type": "code",
      "execution_count": null,
      "metadata": {
        "colab": {
          "base_uri": "https://localhost:8080/"
        },
        "id": "nI2jiEwk3Rfr",
        "outputId": "b82dc525-2795-4eb8-fb3f-e037341b59da"
      },
      "outputs": [
        {
          "data": {
            "text/plain": [
              "1    2831\n",
              "0     335\n",
              "Name: count, dtype: int64"
            ]
          },
          "execution_count": 106,
          "metadata": {},
          "output_type": "execute_result"
        }
      ],
      "source": [
        "pd.Series(pred).value_counts()"
      ]
    },
    {
      "cell_type": "code",
      "execution_count": null,
      "metadata": {
        "id": "_FAXoVVN3aEi"
      },
      "outputs": [],
      "source": [
        "from sklearn.tree import plot_tree"
      ]
    },
    {
      "cell_type": "code",
      "execution_count": null,
      "metadata": {
        "colab": {
          "base_uri": "https://localhost:8080/",
          "height": 1000
        },
        "collapsed": true,
        "id": "Cb93tOAe913r",
        "outputId": "849bd550-727a-4481-cf07-4612f7dfde81"
      },
      "outputs": [
        {
          "data": {
            "text/plain": [
              "[Text(0.6059229651162791, 0.9444444444444444, 'x[2] <= 144.614\\nsquared_error = 0.081\\nsamples = 256\\nvalue = 0.482'),\n",
              " Text(0.3528343023255814, 0.8333333333333334, 'x[2] <= 67.074\\nsquared_error = 0.081\\nsamples = 236\\nvalue = 0.481'),\n",
              " Text(0.13372093023255813, 0.7222222222222222, 'x[2] <= -1.045\\nsquared_error = 0.081\\nsamples = 181\\nvalue = 0.472'),\n",
              " Text(0.12209302325581395, 0.6111111111111112, 'squared_error = 0.0\\nsamples = 1\\nvalue = 0.888'),\n",
              " Text(0.14534883720930233, 0.6111111111111112, 'x[0] <= 1429504970.494\\nsquared_error = 0.081\\nsamples = 180\\nvalue = 0.469'),\n",
              " Text(0.0872093023255814, 0.5, 'x[1] <= 79.165\\nsquared_error = 0.079\\nsamples = 171\\nvalue = 0.484'),\n",
              " Text(0.05813953488372093, 0.3888888888888889, 'x[1] <= 77.194\\nsquared_error = 0.079\\nsamples = 162\\nvalue = 0.475'),\n",
              " Text(0.046511627906976744, 0.2777777777777778, 'x[0] <= 1427792957.208\\nsquared_error = 0.079\\nsamples = 161\\nvalue = 0.477'),\n",
              " Text(0.023255813953488372, 0.16666666666666666, 'x[1] <= 64.001\\nsquared_error = 0.079\\nsamples = 112\\nvalue = 0.479'),\n",
              " Text(0.011627906976744186, 0.05555555555555555, 'squared_error = 0.078\\nsamples = 109\\nvalue = 0.471'),\n",
              " Text(0.03488372093023256, 0.05555555555555555, 'squared_error = 0.027\\nsamples = 3\\nvalue = 0.75'),\n",
              " Text(0.06976744186046512, 0.16666666666666666, 'x[0] <= 1428434324.971\\nsquared_error = 0.079\\nsamples = 49\\nvalue = 0.473'),\n",
              " Text(0.05813953488372093, 0.05555555555555555, 'squared_error = 0.065\\nsamples = 10\\nvalue = 0.448'),\n",
              " Text(0.08139534883720931, 0.05555555555555555, 'squared_error = 0.082\\nsamples = 39\\nvalue = 0.479'),\n",
              " Text(0.06976744186046512, 0.2777777777777778, 'squared_error = 0.0\\nsamples = 1\\nvalue = 0.205'),\n",
              " Text(0.11627906976744186, 0.3888888888888889, 'x[0] <= 1426845253.069\\nsquared_error = 0.052\\nsamples = 9\\nvalue = 0.644'),\n",
              " Text(0.10465116279069768, 0.2777777777777778, 'squared_error = 0.0\\nsamples = 1\\nvalue = 0.575'),\n",
              " Text(0.12790697674418605, 0.2777777777777778, 'x[2] <= 57.554\\nsquared_error = 0.058\\nsamples = 8\\nvalue = 0.653'),\n",
              " Text(0.11627906976744186, 0.16666666666666666, 'x[1] <= 115.814\\nsquared_error = 0.051\\nsamples = 7\\nvalue = 0.696'),\n",
              " Text(0.10465116279069768, 0.05555555555555555, 'squared_error = 0.008\\nsamples = 6\\nvalue = 0.782'),\n",
              " Text(0.12790697674418605, 0.05555555555555555, 'squared_error = -0.0\\nsamples = 1\\nvalue = 0.182'),\n",
              " Text(0.13953488372093023, 0.16666666666666666, 'squared_error = 0.0\\nsamples = 1\\nvalue = 0.35'),\n",
              " Text(0.20348837209302326, 0.5, 'x[1] <= 56.723\\nsquared_error = 0.031\\nsamples = 9\\nvalue = 0.192'),\n",
              " Text(0.16279069767441862, 0.3888888888888889, 'x[1] <= 24.68\\nsquared_error = 0.039\\nsamples = 4\\nvalue = 0.145'),\n",
              " Text(0.1511627906976744, 0.2777777777777778, 'squared_error = 0.0\\nsamples = 1\\nvalue = 0.026'),\n",
              " Text(0.1744186046511628, 0.2777777777777778, 'x[2] <= 44.527\\nsquared_error = 0.046\\nsamples = 3\\nvalue = 0.185'),\n",
              " Text(0.16279069767441862, 0.16666666666666666, 'x[2] <= 43.804\\nsquared_error = 0.0\\nsamples = 2\\nvalue = 0.033'),\n",
              " Text(0.1511627906976744, 0.05555555555555555, 'squared_error = 0.0\\nsamples = 1\\nvalue = 0.016'),\n",
              " Text(0.1744186046511628, 0.05555555555555555, 'squared_error = 0.0\\nsamples = 1\\nvalue = 0.051'),\n",
              " Text(0.18604651162790697, 0.16666666666666666, 'squared_error = 0.0\\nsamples = 1\\nvalue = 0.488'),\n",
              " Text(0.2441860465116279, 0.3888888888888889, 'x[0] <= 1429618013.713\\nsquared_error = 0.022\\nsamples = 5\\nvalue = 0.23'),\n",
              " Text(0.22093023255813954, 0.2777777777777778, 'x[0] <= 1429528759.382\\nsquared_error = 0.012\\nsamples = 2\\nvalue = 0.36'),\n",
              " Text(0.20930232558139536, 0.16666666666666666, 'squared_error = 0.0\\nsamples = 1\\nvalue = 0.249'),\n",
              " Text(0.23255813953488372, 0.16666666666666666, 'squared_error = -0.0\\nsamples = 1\\nvalue = 0.47'),\n",
              " Text(0.26744186046511625, 0.2777777777777778, 'x[0] <= 1429733536.46\\nsquared_error = 0.01\\nsamples = 3\\nvalue = 0.144'),\n",
              " Text(0.2558139534883721, 0.16666666666666666, 'x[2] <= 59.136\\nsquared_error = 0.015\\nsamples = 2\\nvalue = 0.143'),\n",
              " Text(0.2441860465116279, 0.05555555555555555, 'squared_error = 0.0\\nsamples = 1\\nvalue = 0.264'),\n",
              " Text(0.26744186046511625, 0.05555555555555555, 'squared_error = -0.0\\nsamples = 1\\nvalue = 0.022'),\n",
              " Text(0.27906976744186046, 0.16666666666666666, 'squared_error = 0.0\\nsamples = 1\\nvalue = 0.146'),\n",
              " Text(0.5719476744186046, 0.7222222222222222, 'x[1] <= 124.47\\nsquared_error = 0.079\\nsamples = 55\\nvalue = 0.513'),\n",
              " Text(0.49273255813953487, 0.6111111111111112, 'x[1] <= 97.414\\nsquared_error = 0.075\\nsamples = 48\\nvalue = 0.493'),\n",
              " Text(0.41569767441860467, 0.5, 'x[2] <= 102.204\\nsquared_error = 0.082\\nsamples = 38\\nvalue = 0.476'),\n",
              " Text(0.3546511627906977, 0.3888888888888889, 'x[0] <= 1425866105.805\\nsquared_error = 0.08\\nsamples = 32\\nvalue = 0.492'),\n",
              " Text(0.313953488372093, 0.2777777777777778, 'x[1] <= 47.172\\nsquared_error = 0.05\\nsamples = 4\\nvalue = 0.296'),\n",
              " Text(0.3023255813953488, 0.16666666666666666, 'squared_error = 0.0\\nsamples = 1\\nvalue = 0.044'),\n",
              " Text(0.32558139534883723, 0.16666666666666666, 'x[0] <= 1425538583.564\\nsquared_error = 0.039\\nsamples = 3\\nvalue = 0.38'),\n",
              " Text(0.313953488372093, 0.05555555555555555, 'squared_error = 0.006\\nsamples = 2\\nvalue = 0.249'),\n",
              " Text(0.3372093023255814, 0.05555555555555555, 'squared_error = 0.0\\nsamples = 1\\nvalue = 0.644'),\n",
              " Text(0.3953488372093023, 0.2777777777777778, 'x[2] <= 78.18\\nsquared_error = 0.078\\nsamples = 28\\nvalue = 0.52'),\n",
              " Text(0.37209302325581395, 0.16666666666666666, 'x[2] <= 72.108\\nsquared_error = 0.079\\nsamples = 17\\nvalue = 0.522'),\n",
              " Text(0.36046511627906974, 0.05555555555555555, 'squared_error = 0.083\\nsamples = 11\\nvalue = 0.539'),\n",
              " Text(0.38372093023255816, 0.05555555555555555, 'squared_error = 0.069\\nsamples = 6\\nvalue = 0.491'),\n",
              " Text(0.4186046511627907, 0.16666666666666666, 'x[0] <= 1428043579.652\\nsquared_error = 0.077\\nsamples = 11\\nvalue = 0.517'),\n",
              " Text(0.4069767441860465, 0.05555555555555555, 'squared_error = 0.102\\nsamples = 7\\nvalue = 0.585'),\n",
              " Text(0.43023255813953487, 0.05555555555555555, 'squared_error = 0.012\\nsamples = 4\\nvalue = 0.398'),\n",
              " Text(0.47674418604651164, 0.3888888888888889, 'x[0] <= 1426143044.977\\nsquared_error = 0.082\\nsamples = 6\\nvalue = 0.387'),\n",
              " Text(0.46511627906976744, 0.2777777777777778, 'squared_error = 0.0\\nsamples = 1\\nvalue = 0.012'),\n",
              " Text(0.4883720930232558, 0.2777777777777778, 'x[1] <= 71.672\\nsquared_error = 0.065\\nsamples = 5\\nvalue = 0.462'),\n",
              " Text(0.46511627906976744, 0.16666666666666666, 'x[2] <= 126.383\\nsquared_error = 0.016\\nsamples = 2\\nvalue = 0.259'),\n",
              " Text(0.45348837209302323, 0.05555555555555555, 'squared_error = 0.0\\nsamples = 1\\nvalue = 0.134'),\n",
              " Text(0.47674418604651164, 0.05555555555555555, 'squared_error = 0.0\\nsamples = 1\\nvalue = 0.385'),\n",
              " Text(0.5116279069767442, 0.16666666666666666, 'x[2] <= 117.102\\nsquared_error = 0.052\\nsamples = 3\\nvalue = 0.597'),\n",
              " Text(0.5, 0.05555555555555555, 'squared_error = 0.077\\nsamples = 2\\nvalue = 0.589'),\n",
              " Text(0.5232558139534884, 0.05555555555555555, 'squared_error = 0.0\\nsamples = 1\\nvalue = 0.611'),\n",
              " Text(0.5697674418604651, 0.5, 'x[1] <= 100.474\\nsquared_error = 0.041\\nsamples = 10\\nvalue = 0.56'),\n",
              " Text(0.5348837209302325, 0.3888888888888889, 'x[2] <= 77.882\\nsquared_error = 0.051\\nsamples = 3\\nvalue = 0.416'),\n",
              " Text(0.5232558139534884, 0.2777777777777778, 'squared_error = 0.0\\nsamples = 1\\nvalue = 0.631'),\n",
              " Text(0.5465116279069767, 0.2777777777777778, 'x[0] <= 1428776354.743\\nsquared_error = 0.041\\nsamples = 2\\nvalue = 0.309'),\n",
              " Text(0.5348837209302325, 0.16666666666666666, 'squared_error = 0.0\\nsamples = 1\\nvalue = 0.105'),\n",
              " Text(0.5581395348837209, 0.16666666666666666, 'squared_error = 0.0\\nsamples = 1\\nvalue = 0.512'),\n",
              " Text(0.6046511627906976, 0.3888888888888889, 'x[2] <= 135.387\\nsquared_error = 0.024\\nsamples = 7\\nvalue = 0.622'),\n",
              " Text(0.5930232558139535, 0.2777777777777778, 'x[0] <= 1427469113.103\\nsquared_error = 0.02\\nsamples = 6\\nvalue = 0.657'),\n",
              " Text(0.5813953488372093, 0.16666666666666666, 'squared_error = 0.0\\nsamples = 1\\nvalue = 0.629'),\n",
              " Text(0.6046511627906976, 0.16666666666666666, 'x[2] <= 120.032\\nsquared_error = 0.023\\nsamples = 5\\nvalue = 0.662'),\n",
              " Text(0.5930232558139535, 0.05555555555555555, 'squared_error = 0.007\\nsamples = 4\\nvalue = 0.596'),\n",
              " Text(0.6162790697674418, 0.05555555555555555, 'squared_error = -0.0\\nsamples = 1\\nvalue = 0.928'),\n",
              " Text(0.6162790697674418, 0.2777777777777778, 'squared_error = -0.0\\nsamples = 1\\nvalue = 0.415'),\n",
              " Text(0.6511627906976745, 0.6111111111111112, 'x[2] <= 94.6\\nsquared_error = 0.088\\nsamples = 7\\nvalue = 0.65'),\n",
              " Text(0.6395348837209303, 0.5, 'squared_error = 0.0\\nsamples = 1\\nvalue = 0.457'),\n",
              " Text(0.6627906976744186, 0.5, 'x[1] <= 225.48\\nsquared_error = 0.096\\nsamples = 6\\nvalue = 0.683'),\n",
              " Text(0.6511627906976745, 0.3888888888888889, 'x[2] <= 106.494\\nsquared_error = 0.114\\nsamples = 5\\nvalue = 0.695'),\n",
              " Text(0.6395348837209303, 0.2777777777777778, 'squared_error = 0.0\\nsamples = 1\\nvalue = 0.812'),\n",
              " Text(0.6627906976744186, 0.2777777777777778, 'x[0] <= 1429488089.205\\nsquared_error = 0.138\\nsamples = 4\\nvalue = 0.666'),\n",
              " Text(0.6511627906976745, 0.16666666666666666, 'x[2] <= 117.152\\nsquared_error = 0.183\\nsamples = 3\\nvalue = 0.645'),\n",
              " Text(0.6395348837209303, 0.05555555555555555, 'squared_error = 0.186\\nsamples = 2\\nvalue = 0.475'),\n",
              " Text(0.6627906976744186, 0.05555555555555555, 'squared_error = 0.0\\nsamples = 1\\nvalue = 0.987'),\n",
              " Text(0.6744186046511628, 0.16666666666666666, 'squared_error = -0.0\\nsamples = 1\\nvalue = 0.729'),\n",
              " Text(0.6744186046511628, 0.3888888888888889, 'squared_error = 0.0\\nsamples = 1\\nvalue = 0.618'),\n",
              " Text(0.8590116279069767, 0.8333333333333334, 'x[0] <= 1427301719.927\\nsquared_error = 0.076\\nsamples = 20\\nvalue = 0.49'),\n",
              " Text(0.7645348837209303, 0.7222222222222222, 'x[1] <= 966.681\\nsquared_error = 0.078\\nsamples = 11\\nvalue = 0.437'),\n",
              " Text(0.752906976744186, 0.6111111111111112, 'x[0] <= 1425953495.903\\nsquared_error = 0.086\\nsamples = 10\\nvalue = 0.442'),\n",
              " Text(0.7093023255813954, 0.5, 'x[1] <= 314.314\\nsquared_error = 0.073\\nsamples = 4\\nvalue = 0.371'),\n",
              " Text(0.6976744186046512, 0.3888888888888889, 'squared_error = 0.0\\nsamples = 1\\nvalue = 0.096'),\n",
              " Text(0.7209302325581395, 0.3888888888888889, 'x[2] <= 599.793\\nsquared_error = 0.064\\nsamples = 3\\nvalue = 0.462'),\n",
              " Text(0.7093023255813954, 0.2777777777777778, 'x[1] <= 359.979\\nsquared_error = 0.009\\nsamples = 2\\nvalue = 0.291'),\n",
              " Text(0.6976744186046512, 0.16666666666666666, 'squared_error = 0.0\\nsamples = 1\\nvalue = 0.198'),\n",
              " Text(0.7209302325581395, 0.16666666666666666, 'squared_error = 0.0\\nsamples = 1\\nvalue = 0.385'),\n",
              " Text(0.7325581395348837, 0.2777777777777778, 'squared_error = 0.0\\nsamples = 1\\nvalue = 0.804'),\n",
              " Text(0.7965116279069767, 0.5, 'x[0] <= 1426403891.411\\nsquared_error = 0.088\\nsamples = 6\\nvalue = 0.489'),\n",
              " Text(0.7674418604651163, 0.3888888888888889, 'x[0] <= 1425974198.573\\nsquared_error = 0.026\\nsamples = 2\\nvalue = 0.558'),\n",
              " Text(0.7558139534883721, 0.2777777777777778, 'squared_error = 0.0\\nsamples = 1\\nvalue = 0.396'),\n",
              " Text(0.7790697674418605, 0.2777777777777778, 'squared_error = 0.0\\nsamples = 1\\nvalue = 0.72'),\n",
              " Text(0.8255813953488372, 0.3888888888888889, 'x[0] <= 1426476449.442\\nsquared_error = 0.115\\nsamples = 4\\nvalue = 0.455'),\n",
              " Text(0.8023255813953488, 0.2777777777777778, 'x[0] <= 1426468962.443\\nsquared_error = 0.006\\nsamples = 2\\nvalue = 0.12'),\n",
              " Text(0.7906976744186046, 0.16666666666666666, 'squared_error = 0.0\\nsamples = 1\\nvalue = 0.044'),\n",
              " Text(0.813953488372093, 0.16666666666666666, 'squared_error = 0.0\\nsamples = 1\\nvalue = 0.196'),\n",
              " Text(0.8488372093023255, 0.2777777777777778, 'x[2] <= 316.245\\nsquared_error = 0.001\\nsamples = 2\\nvalue = 0.79'),\n",
              " Text(0.8372093023255814, 0.16666666666666666, 'squared_error = 0.0\\nsamples = 1\\nvalue = 0.814'),\n",
              " Text(0.8604651162790697, 0.16666666666666666, 'squared_error = -0.0\\nsamples = 1\\nvalue = 0.767'),\n",
              " Text(0.7761627906976745, 0.6111111111111112, 'squared_error = 0.0\\nsamples = 1\\nvalue = 0.391'),\n",
              " Text(0.9534883720930233, 0.7222222222222222, 'x[2] <= 322.297\\nsquared_error = 0.065\\nsamples = 9\\nvalue = 0.555'),\n",
              " Text(0.9302325581395349, 0.6111111111111112, 'x[1] <= 465.734\\nsquared_error = 0.096\\nsamples = 6\\nvalue = 0.55'),\n",
              " Text(0.9186046511627907, 0.5, 'x[0] <= 1429404018.585\\nsquared_error = 0.099\\nsamples = 5\\nvalue = 0.602'),\n",
              " Text(0.9069767441860465, 0.3888888888888889, 'x[0] <= 1428945949.951\\nsquared_error = 0.09\\nsamples = 4\\nvalue = 0.52'),\n",
              " Text(0.8953488372093024, 0.2777777777777778, 'x[1] <= 103.488\\nsquared_error = 0.116\\nsamples = 3\\nvalue = 0.551'),\n",
              " Text(0.8837209302325582, 0.16666666666666666, 'squared_error = 0.0\\nsamples = 1\\nvalue = 0.157'),\n",
              " Text(0.9069767441860465, 0.16666666666666666, 'x[2] <= 149.324\\nsquared_error = 0.058\\nsamples = 2\\nvalue = 0.748'),\n",
              " Text(0.8953488372093024, 0.05555555555555555, 'squared_error = 0.0\\nsamples = 1\\nvalue = 0.989'),\n",
              " Text(0.9186046511627907, 0.05555555555555555, 'squared_error = -0.0\\nsamples = 1\\nvalue = 0.507'),\n",
              " Text(0.9186046511627907, 0.2777777777777778, 'squared_error = -0.0\\nsamples = 1\\nvalue = 0.427'),\n",
              " Text(0.9302325581395349, 0.3888888888888889, 'squared_error = 0.0\\nsamples = 1\\nvalue = 0.931'),\n",
              " Text(0.9418604651162791, 0.5, 'squared_error = 0.0\\nsamples = 1\\nvalue = 0.289'),\n",
              " Text(0.9767441860465116, 0.6111111111111112, 'x[1] <= 493.281\\nsquared_error = 0.003\\nsamples = 3\\nvalue = 0.566'),\n",
              " Text(0.9651162790697675, 0.5, 'x[0] <= 1427820262.871\\nsquared_error = 0.004\\nsamples = 2\\nvalue = 0.574'),\n",
              " Text(0.9534883720930233, 0.3888888888888889, 'squared_error = 0.0\\nsamples = 1\\nvalue = 0.513'),\n",
              " Text(0.9767441860465116, 0.3888888888888889, 'squared_error = -0.0\\nsamples = 1\\nvalue = 0.636'),\n",
              " Text(0.9883720930232558, 0.5, 'squared_error = -0.0\\nsamples = 1\\nvalue = 0.548')]"
            ]
          },
          "execution_count": 108,
          "metadata": {},
          "output_type": "execute_result"
        },
        {
          "data": {
            "image/png": "[encoded data removed]",
            "text/plain": [
              "<Figure size 640x480 with 1 Axes>"
            ]
          },
          "metadata": {},
          "output_type": "display_data"
        }
      ],
      "source": [
        "plot_tree(clf.estimators_[0])"
      ]
    },
    {
      "cell_type": "markdown",
      "metadata": {
        "id": "AZlw-GyV_nY7"
      },
      "source": [
        "#### more complex isolation tree"
      ]
    },
    {
      "cell_type": "code",
      "execution_count": null,
      "metadata": {
        "colab": {
          "base_uri": "https://localhost:8080/"
        },
        "id": "-fL7FBy8_nBd",
        "outputId": "94fd8fe9-936f-45eb-c0fa-41ee9746df1e"
      },
      "outputs": [
        {
          "name": "stdout",
          "output_type": "stream",
          "text": [
            "0.04902084649399874\n"
          ]
        }
      ],
      "source": [
        "print(df[df['is_anomaly']==1].shape[0]/df.shape[0])\n",
        "clf=IsolationForest(n_estimators=100, contamination=df[df['is_anomaly']==1].shape[0]/df.shape[0],max_samples=int(df.shape[0]*0.5),random_state=10)"
      ]
    },
    {
      "cell_type": "code",
      "execution_count": null,
      "metadata": {
        "colab": {
          "base_uri": "https://localhost:8080/",
          "height": 146
        },
        "id": "ZWI97GQ2_m-B",
        "outputId": "9bbc3207-d8b0-4d29-b8a8-5465d76f9d6a"
      },
      "outputs": [
        {
          "name": "stderr",
          "output_type": "stream",
          "text": [
            "/usr/local/lib/python3.10/dist-packages/sklearn/base.py:439: UserWarning: X does not have valid feature names, but IsolationForest was fitted with feature names\n",
            "  warnings.warn(\n"
          ]
        },
        {
          "data": {
            "text/html": [
              "<style>#sk-container-id-8 {color: black;background-color: white;}#sk-container-id-8 pre{padding: 0;}#sk-container-id-8 div.sk-toggleable {background-color: white;}#sk-container-id-8 label.sk-toggleable__label {cursor: pointer;display: block;width: 100%;margin-bottom: 0;padding: 0.3em;box-sizing: border-box;text-align: center;}#sk-container-id-8 label.sk-toggleable__label-arrow:before {content: \"▸\";float: left;margin-right: 0.25em;color: #696969;}#sk-container-id-8 label.sk-toggleable__label-arrow:hover:before {color: black;}#sk-container-id-8 div.sk-estimator:hover label.sk-toggleable__label-arrow:before {color: black;}#sk-container-id-8 div.sk-toggleable__content {max-height: 0;max-width: 0;overflow: hidden;text-align: left;background-color: #f0f8ff;}#sk-container-id-8 div.sk-toggleable__content pre {margin: 0.2em;color: black;border-radius: 0.25em;background-color: #f0f8ff;}#sk-container-id-8 input.sk-toggleable__control:checked~div.sk-toggleable__content {max-height: 200px;max-width: 100%;overflow: auto;}#sk-container-id-8 input.sk-toggleable__control:checked~label.sk-toggleable__label-arrow:before {content: \"▾\";}#sk-container-id-8 div.sk-estimator input.sk-toggleable__control:checked~label.sk-toggleable__label {background-color: #d4ebff;}#sk-container-id-8 div.sk-label input.sk-toggleable__control:checked~label.sk-toggleable__label {background-color: #d4ebff;}#sk-container-id-8 input.sk-hidden--visually {border: 0;clip: rect(1px 1px 1px 1px);clip: rect(1px, 1px, 1px, 1px);height: 1px;margin: -1px;overflow: hidden;padding: 0;position: absolute;width: 1px;}#sk-container-id-8 div.sk-estimator {font-family: monospace;background-color: #f0f8ff;border: 1px dotted black;border-radius: 0.25em;box-sizing: border-box;margin-bottom: 0.5em;}#sk-container-id-8 div.sk-estimator:hover {background-color: #d4ebff;}#sk-container-id-8 div.sk-parallel-item::after {content: \"\";width: 100%;border-bottom: 1px solid gray;flex-grow: 1;}#sk-container-id-8 div.sk-label:hover label.sk-toggleable__label {background-color: #d4ebff;}#sk-container-id-8 div.sk-serial::before {content: \"\";position: absolute;border-left: 1px solid gray;box-sizing: border-box;top: 0;bottom: 0;left: 50%;z-index: 0;}#sk-container-id-8 div.sk-serial {display: flex;flex-direction: column;align-items: center;background-color: white;padding-right: 0.2em;padding-left: 0.2em;position: relative;}#sk-container-id-8 div.sk-item {position: relative;z-index: 1;}#sk-container-id-8 div.sk-parallel {display: flex;align-items: stretch;justify-content: center;background-color: white;position: relative;}#sk-container-id-8 div.sk-item::before, #sk-container-id-8 div.sk-parallel-item::before {content: \"\";position: absolute;border-left: 1px solid gray;box-sizing: border-box;top: 0;bottom: 0;left: 50%;z-index: -1;}#sk-container-id-8 div.sk-parallel-item {display: flex;flex-direction: column;z-index: 1;position: relative;background-color: white;}#sk-container-id-8 div.sk-parallel-item:first-child::after {align-self: flex-end;width: 50%;}#sk-container-id-8 div.sk-parallel-item:last-child::after {align-self: flex-start;width: 50%;}#sk-container-id-8 div.sk-parallel-item:only-child::after {width: 0;}#sk-container-id-8 div.sk-dashed-wrapped {border: 1px dashed gray;margin: 0 0.4em 0.5em 0.4em;box-sizing: border-box;padding-bottom: 0.4em;background-color: white;}#sk-container-id-8 div.sk-label label {font-family: monospace;font-weight: bold;display: inline-block;line-height: 1.2em;}#sk-container-id-8 div.sk-label-container {text-align: center;}#sk-container-id-8 div.sk-container {/* jupyter's `normalize.less` sets `[hidden] { display: none; }` but bootstrap.min.css set `[hidden] { display: none !important; }` so we also need the `!important` here to be able to override the default hidden behavior on the sphinx rendered scikit-learn.org. See: https://github.com/scikit-learn/scikit-learn/issues/21755 */display: inline-block !important;position: relative;}#sk-container-id-8 div.sk-text-repr-fallback {display: none;}</style><div id=\"sk-container-id-8\" class=\"sk-top-container\"><div class=\"sk-text-repr-fallback\"><pre>IsolationForest(contamination=0.04902084649399874, max_samples=7915,\n",
              "                random_state=10)</pre><b>In a Jupyter environment, please rerun this cell to show the HTML representation or trust the notebook. <br />On GitHub, the HTML representation is unable to render, please try loading this page with nbviewer.org.</b></div><div class=\"sk-container\" hidden><div class=\"sk-item\"><div class=\"sk-estimator sk-toggleable\"><input class=\"sk-toggleable__control sk-hidden--visually\" id=\"sk-estimator-id-8\" type=\"checkbox\" checked><label for=\"sk-estimator-id-8\" class=\"sk-toggleable__label sk-toggleable__label-arrow\">IsolationForest</label><div class=\"sk-toggleable__content\"><pre>IsolationForest(contamination=0.04902084649399874, max_samples=7915,\n",
              "                random_state=10)</pre></div></div></div></div></div>"
            ],
            "text/plain": [
              "IsolationForest(contamination=0.04902084649399874, max_samples=7915,\n",
              "                random_state=10)"
            ]
          },
          "execution_count": 127,
          "metadata": {},
          "output_type": "execute_result"
        }
      ],
      "source": [
        "clf.fit(x_train,y_train)"
      ]
    },
    {
      "cell_type": "code",
      "execution_count": null,
      "metadata": {
        "id": "mrrYIsLR_m7m"
      },
      "outputs": [],
      "source": [
        "pred=clf.predict(x_test)"
      ]
    },
    {
      "cell_type": "code",
      "execution_count": null,
      "metadata": {
        "id": "aTPO8FzE_m5r"
      },
      "outputs": [],
      "source": [
        "pred[pred==1]=1\n",
        "pred[pred==-1]=0"
      ]
    },
    {
      "cell_type": "code",
      "execution_count": null,
      "metadata": {
        "colab": {
          "base_uri": "https://localhost:8080/"
        },
        "id": "J2QeWH-6_m3q",
        "outputId": "387b4b2a-a787-4d43-d380-42646d2b70c3"
      },
      "outputs": [
        {
          "name": "stdout",
          "output_type": "stream",
          "text": [
            "              precision    recall  f1-score   support\n",
            "\n",
            "       False       0.61      0.03      0.06      2997\n",
            "        True       0.04      0.66      0.07       169\n",
            "\n",
            "    accuracy                           0.06      3166\n",
            "   macro avg       0.32      0.34      0.06      3166\n",
            "weighted avg       0.58      0.06      0.06      3166\n",
            "\n"
          ]
        }
      ],
      "source": [
        "print(classification_report(y_test,pred))"
      ]
    },
    {
      "cell_type": "markdown",
      "metadata": {
        "id": "6ZULtU-3BiKz"
      },
      "source": [
        "### for visualization"
      ]
    },
    {
      "cell_type": "code",
      "execution_count": null,
      "metadata": {
        "id": "ogPdwoTN_m16"
      },
      "outputs": [],
      "source": [
        "df_new=pd.DataFrame(df['value'].sample(10),columns=['value']).reset_index().drop('index',axis=1)"
      ]
    },
    {
      "cell_type": "code",
      "execution_count": null,
      "metadata": {
        "colab": {
          "base_uri": "https://localhost:8080/",
          "height": 363
        },
        "id": "YEJ5YYm4_mxj",
        "outputId": "b489bcb6-9427-465c-a2da-d2268e462a48"
      },
      "outputs": [
        {
          "data": {
            "application/vnd.google.colaboratory.intrinsic+json": {
              "summary": "{\n  \"name\": \"df_new\",\n  \"rows\": 10,\n  \"fields\": [\n    {\n      \"column\": \"value\",\n      \"properties\": {\n        \"dtype\": \"number\",\n        \"std\": 27,\n        \"min\": 14,\n        \"max\": 89,\n        \"num_unique_values\": 8,\n        \"samples\": [\n          30,\n          22,\n          24\n        ],\n        \"semantic_type\": \"\",\n        \"description\": \"\"\n      }\n    }\n  ]\n}",
              "type": "dataframe",
              "variable_name": "df_new"
            },
            "text/html": [
              "\n",
              "  <div id=\"df-d1764354-eb26-4a88-92b6-97e6dd709365\" class=\"colab-df-container\">\n",
              "    <div>\n",
              "<style scoped>\n",
              "    .dataframe tbody tr th:only-of-type {\n",
              "        vertical-align: middle;\n",
              "    }\n",
              "\n",
              "    .dataframe tbody tr th {\n",
              "        vertical-align: top;\n",
              "    }\n",
              "\n",
              "    .dataframe thead th {\n",
              "        text-align: right;\n",
              "    }\n",
              "</style>\n",
              "<table border=\"1\" class=\"dataframe\">\n",
              "  <thead>\n",
              "    <tr style=\"text-align: right;\">\n",
              "      <th></th>\n",
              "      <th>value</th>\n",
              "    </tr>\n",
              "  </thead>\n",
              "  <tbody>\n",
              "    <tr>\n",
              "      <th>0</th>\n",
              "      <td>24</td>\n",
              "    </tr>\n",
              "    <tr>\n",
              "      <th>1</th>\n",
              "      <td>30</td>\n",
              "    </tr>\n",
              "    <tr>\n",
              "      <th>2</th>\n",
              "      <td>89</td>\n",
              "    </tr>\n",
              "    <tr>\n",
              "      <th>3</th>\n",
              "      <td>38</td>\n",
              "    </tr>\n",
              "    <tr>\n",
              "      <th>4</th>\n",
              "      <td>14</td>\n",
              "    </tr>\n",
              "    <tr>\n",
              "      <th>5</th>\n",
              "      <td>22</td>\n",
              "    </tr>\n",
              "    <tr>\n",
              "      <th>6</th>\n",
              "      <td>89</td>\n",
              "    </tr>\n",
              "    <tr>\n",
              "      <th>7</th>\n",
              "      <td>34</td>\n",
              "    </tr>\n",
              "    <tr>\n",
              "      <th>8</th>\n",
              "      <td>66</td>\n",
              "    </tr>\n",
              "    <tr>\n",
              "      <th>9</th>\n",
              "      <td>66</td>\n",
              "    </tr>\n",
              "  </tbody>\n",
              "</table>\n",
              "</div>\n",
              "    <div class=\"colab-df-buttons\">\n",
              "\n",
              "  <div class=\"colab-df-container\">\n",
              "    <button class=\"colab-df-convert\" onclick=\"convertToInteractive('df-d1764354-eb26-4a88-92b6-97e6dd709365')\"\n",
              "            title=\"Convert this dataframe to an interactive table.\"\n",
              "            style=\"display:none;\">\n",
              "\n",
              "  <svg xmlns=\"http://www.w3.org/2000/svg\" height=\"24px\" viewBox=\"0 -960 960 960\">\n",
              "    <path d=\"M120-120v-720h720v720H120Zm60-500h600v-160H180v160Zm220 220h160v-160H400v160Zm0 220h160v-160H400v160ZM180-400h160v-160H180v160Zm440 0h160v-160H620v160ZM180-180h160v-160H180v160Zm440 0h160v-160H620v160Z\"/>\n",
              "  </svg>\n",
              "    </button>\n",
              "\n",
              "  <style>\n",
              "    .colab-df-container {\n",
              "      display:flex;\n",
              "      gap: 12px;\n",
              "    }\n",
              "\n",
              "    .colab-df-convert {\n",
              "      background-color: #E8F0FE;\n",
              "      border: none;\n",
              "      border-radius: 50%;\n",
              "      cursor: pointer;\n",
              "      display: none;\n",
              "      fill: #1967D2;\n",
              "      height: 32px;\n",
              "      padding: 0 0 0 0;\n",
              "      width: 32px;\n",
              "    }\n",
              "\n",
              "    .colab-df-convert:hover {\n",
              "      background-color: #E2EBFA;\n",
              "      box-shadow: 0px 1px 2px rgba(60, 64, 67, 0.3), 0px 1px 3px 1px rgba(60, 64, 67, 0.15);\n",
              "      fill: #174EA6;\n",
              "    }\n",
              "\n",
              "    .colab-df-buttons div {\n",
              "      margin-bottom: 4px;\n",
              "    }\n",
              "\n",
              "    [theme=dark] .colab-df-convert {\n",
              "      background-color: #3B4455;\n",
              "      fill: #D2E3FC;\n",
              "    }\n",
              "\n",
              "    [theme=dark] .colab-df-convert:hover {\n",
              "      background-color: #434B5C;\n",
              "      box-shadow: 0px 1px 3px 1px rgba(0, 0, 0, 0.15);\n",
              "      filter: drop-shadow(0px 1px 2px rgba(0, 0, 0, 0.3));\n",
              "      fill: #FFFFFF;\n",
              "    }\n",
              "  </style>\n",
              "\n",
              "    <script>\n",
              "      const buttonEl =\n",
              "        document.querySelector('#df-d1764354-eb26-4a88-92b6-97e6dd709365 button.colab-df-convert');\n",
              "      buttonEl.style.display =\n",
              "        google.colab.kernel.accessAllowed ? 'block' : 'none';\n",
              "\n",
              "      async function convertToInteractive(key) {\n",
              "        const element = document.querySelector('#df-d1764354-eb26-4a88-92b6-97e6dd709365');\n",
              "        const dataTable =\n",
              "          await google.colab.kernel.invokeFunction('convertToInteractive',\n",
              "                                                    [key], {});\n",
              "        if (!dataTable) return;\n",
              "\n",
              "        const docLinkHtml = 'Like what you see? Visit the ' +\n",
              "          '<a target=\"_blank\" href=https://colab.research.google.com/notebooks/data_table.ipynb>data table notebook</a>'\n",
              "          + ' to learn more about interactive tables.';\n",
              "        element.innerHTML = '';\n",
              "        dataTable['output_type'] = 'display_data';\n",
              "        await google.colab.output.renderOutput(dataTable, element);\n",
              "        const docLink = document.createElement('div');\n",
              "        docLink.innerHTML = docLinkHtml;\n",
              "        element.appendChild(docLink);\n",
              "      }\n",
              "    </script>\n",
              "  </div>\n",
              "\n",
              "\n",
              "<div id=\"df-f7390846-846a-4d4a-9269-bd0e96dbbf0d\">\n",
              "  <button class=\"colab-df-quickchart\" onclick=\"quickchart('df-f7390846-846a-4d4a-9269-bd0e96dbbf0d')\"\n",
              "            title=\"Suggest charts\"\n",
              "            style=\"display:none;\">\n",
              "\n",
              "<svg xmlns=\"http://www.w3.org/2000/svg\" height=\"24px\"viewBox=\"0 0 24 24\"\n",
              "     width=\"24px\">\n",
              "    <g>\n",
              "        <path d=\"M19 3H5c-1.1 0-2 .9-2 2v14c0 1.1.9 2 2 2h14c1.1 0 2-.9 2-2V5c0-1.1-.9-2-2-2zM9 17H7v-7h2v7zm4 0h-2V7h2v10zm4 0h-2v-4h2v4z\"/>\n",
              "    </g>\n",
              "</svg>\n",
              "  </button>\n",
              "\n",
              "<style>\n",
              "  .colab-df-quickchart {\n",
              "      --bg-color: #E8F0FE;\n",
              "      --fill-color: #1967D2;\n",
              "      --hover-bg-color: #E2EBFA;\n",
              "      --hover-fill-color: #174EA6;\n",
              "      --disabled-fill-color: #AAA;\n",
              "      --disabled-bg-color: #DDD;\n",
              "  }\n",
              "\n",
              "  [theme=dark] .colab-df-quickchart {\n",
              "      --bg-color: #3B4455;\n",
              "      --fill-color: #D2E3FC;\n",
              "      --hover-bg-color: #434B5C;\n",
              "      --hover-fill-color: #FFFFFF;\n",
              "      --disabled-bg-color: #3B4455;\n",
              "      --disabled-fill-color: #666;\n",
              "  }\n",
              "\n",
              "  .colab-df-quickchart {\n",
              "    background-color: var(--bg-color);\n",
              "    border: none;\n",
              "    border-radius: 50%;\n",
              "    cursor: pointer;\n",
              "    display: none;\n",
              "    fill: var(--fill-color);\n",
              "    height: 32px;\n",
              "    padding: 0;\n",
              "    width: 32px;\n",
              "  }\n",
              "\n",
              "  .colab-df-quickchart:hover {\n",
              "    background-color: var(--hover-bg-color);\n",
              "    box-shadow: 0 1px 2px rgba(60, 64, 67, 0.3), 0 1px 3px 1px rgba(60, 64, 67, 0.15);\n",
              "    fill: var(--button-hover-fill-color);\n",
              "  }\n",
              "\n",
              "  .colab-df-quickchart-complete:disabled,\n",
              "  .colab-df-quickchart-complete:disabled:hover {\n",
              "    background-color: var(--disabled-bg-color);\n",
              "    fill: var(--disabled-fill-color);\n",
              "    box-shadow: none;\n",
              "  }\n",
              "\n",
              "  .colab-df-spinner {\n",
              "    border: 2px solid var(--fill-color);\n",
              "    border-color: transparent;\n",
              "    border-bottom-color: var(--fill-color);\n",
              "    animation:\n",
              "      spin 1s steps(1) infinite;\n",
              "  }\n",
              "\n",
              "  @keyframes spin {\n",
              "    0% {\n",
              "      border-color: transparent;\n",
              "      border-bottom-color: var(--fill-color);\n",
              "      border-left-color: var(--fill-color);\n",
              "    }\n",
              "    20% {\n",
              "      border-color: transparent;\n",
              "      border-left-color: var(--fill-color);\n",
              "      border-top-color: var(--fill-color);\n",
              "    }\n",
              "    30% {\n",
              "      border-color: transparent;\n",
              "      border-left-color: var(--fill-color);\n",
              "      border-top-color: var(--fill-color);\n",
              "      border-right-color: var(--fill-color);\n",
              "    }\n",
              "    40% {\n",
              "      border-color: transparent;\n",
              "      border-right-color: var(--fill-color);\n",
              "      border-top-color: var(--fill-color);\n",
              "    }\n",
              "    60% {\n",
              "      border-color: transparent;\n",
              "      border-right-color: var(--fill-color);\n",
              "    }\n",
              "    80% {\n",
              "      border-color: transparent;\n",
              "      border-right-color: var(--fill-color);\n",
              "      border-bottom-color: var(--fill-color);\n",
              "    }\n",
              "    90% {\n",
              "      border-color: transparent;\n",
              "      border-bottom-color: var(--fill-color);\n",
              "    }\n",
              "  }\n",
              "</style>\n",
              "\n",
              "  <script>\n",
              "    async function quickchart(key) {\n",
              "      const quickchartButtonEl =\n",
              "        document.querySelector('#' + key + ' button');\n",
              "      quickchartButtonEl.disabled = true;  // To prevent multiple clicks.\n",
              "      quickchartButtonEl.classList.add('colab-df-spinner');\n",
              "      try {\n",
              "        const charts = await google.colab.kernel.invokeFunction(\n",
              "            'suggestCharts', [key], {});\n",
              "      } catch (error) {\n",
              "        console.error('Error during call to suggestCharts:', error);\n",
              "      }\n",
              "      quickchartButtonEl.classList.remove('colab-df-spinner');\n",
              "      quickchartButtonEl.classList.add('colab-df-quickchart-complete');\n",
              "    }\n",
              "    (() => {\n",
              "      let quickchartButtonEl =\n",
              "        document.querySelector('#df-f7390846-846a-4d4a-9269-bd0e96dbbf0d button');\n",
              "      quickchartButtonEl.style.display =\n",
              "        google.colab.kernel.accessAllowed ? 'block' : 'none';\n",
              "    })();\n",
              "  </script>\n",
              "</div>\n",
              "\n",
              "  <div id=\"id_bfc2b100-d69e-4690-8f67-34d0f69a587f\">\n",
              "    <style>\n",
              "      .colab-df-generate {\n",
              "        background-color: #E8F0FE;\n",
              "        border: none;\n",
              "        border-radius: 50%;\n",
              "        cursor: pointer;\n",
              "        display: none;\n",
              "        fill: #1967D2;\n",
              "        height: 32px;\n",
              "        padding: 0 0 0 0;\n",
              "        width: 32px;\n",
              "      }\n",
              "\n",
              "      .colab-df-generate:hover {\n",
              "        background-color: #E2EBFA;\n",
              "        box-shadow: 0px 1px 2px rgba(60, 64, 67, 0.3), 0px 1px 3px 1px rgba(60, 64, 67, 0.15);\n",
              "        fill: #174EA6;\n",
              "      }\n",
              "\n",
              "      [theme=dark] .colab-df-generate {\n",
              "        background-color: #3B4455;\n",
              "        fill: #D2E3FC;\n",
              "      }\n",
              "\n",
              "      [theme=dark] .colab-df-generate:hover {\n",
              "        background-color: #434B5C;\n",
              "        box-shadow: 0px 1px 3px 1px rgba(0, 0, 0, 0.15);\n",
              "        filter: drop-shadow(0px 1px 2px rgba(0, 0, 0, 0.3));\n",
              "        fill: #FFFFFF;\n",
              "      }\n",
              "    </style>\n",
              "    <button class=\"colab-df-generate\" onclick=\"generateWithVariable('df_new')\"\n",
              "            title=\"Generate code using this dataframe.\"\n",
              "            style=\"display:none;\">\n",
              "\n",
              "  <svg xmlns=\"http://www.w3.org/2000/svg\" height=\"24px\"viewBox=\"0 0 24 24\"\n",
              "       width=\"24px\">\n",
              "    <path d=\"M7,19H8.4L18.45,9,17,7.55,7,17.6ZM5,21V16.75L18.45,3.32a2,2,0,0,1,2.83,0l1.4,1.43a1.91,1.91,0,0,1,.58,1.4,1.91,1.91,0,0,1-.58,1.4L9.25,21ZM18.45,9,17,7.55Zm-12,3A5.31,5.31,0,0,0,4.9,8.1,5.31,5.31,0,0,0,1,6.5,5.31,5.31,0,0,0,4.9,4.9,5.31,5.31,0,0,0,6.5,1,5.31,5.31,0,0,0,8.1,4.9,5.31,5.31,0,0,0,12,6.5,5.46,5.46,0,0,0,6.5,12Z\"/>\n",
              "  </svg>\n",
              "    </button>\n",
              "    <script>\n",
              "      (() => {\n",
              "      const buttonEl =\n",
              "        document.querySelector('#id_bfc2b100-d69e-4690-8f67-34d0f69a587f button.colab-df-generate');\n",
              "      buttonEl.style.display =\n",
              "        google.colab.kernel.accessAllowed ? 'block' : 'none';\n",
              "\n",
              "      buttonEl.onclick = () => {\n",
              "        google.colab.notebook.generateWithVariable('df_new');\n",
              "      }\n",
              "      })();\n",
              "    </script>\n",
              "  </div>\n",
              "\n",
              "    </div>\n",
              "  </div>\n"
            ],
            "text/plain": [
              "   value\n",
              "0     24\n",
              "1     30\n",
              "2     89\n",
              "3     38\n",
              "4     14\n",
              "5     22\n",
              "6     89\n",
              "7     34\n",
              "8     66\n",
              "9     66"
            ]
          },
          "execution_count": 137,
          "metadata": {},
          "output_type": "execute_result"
        }
      ],
      "source": [
        "df_new"
      ]
    },
    {
      "cell_type": "code",
      "execution_count": null,
      "metadata": {
        "id": "Mgd219H1_mvy"
      },
      "outputs": [],
      "source": [
        "clf1=IsolationForest(n_estimators=1,contamination='auto',max_samples=df_new.shape[0],random_state=10)"
      ]
    },
    {
      "cell_type": "code",
      "execution_count": null,
      "metadata": {
        "colab": {
          "base_uri": "https://localhost:8080/",
          "height": 485
        },
        "id": "c8myubJV_mtv",
        "outputId": "a6e4573a-5328-4f3f-9b96-8bc5f26b5609"
      },
      "outputs": [
        {
          "name": "stderr",
          "output_type": "stream",
          "text": [
            "WARNING:matplotlib.legend:No artists with labels found to put in legend.  Note that artists whose label start with an underscore are ignored when legend() is called with no argument.\n"
          ]
        },
        {
          "data": {
            "text/plain": [
              "<matplotlib.legend.Legend at 0x7d7ccb3918d0>"
            ]
          },
          "execution_count": 141,
          "metadata": {},
          "output_type": "execute_result"
        },
        {
          "data": {
            "image/png": "[encoded data removed]",
            "text/plain": [
              "<Figure size 640x480 with 1 Axes>"
            ]
          },
          "metadata": {},
          "output_type": "display_data"
        }
      ],
      "source": [
        "plt.scatter(df_new['value'], df_new['value'])\n",
        "plt.legend()"
      ]
    },
    {
      "cell_type": "code",
      "execution_count": null,
      "metadata": {
        "colab": {
          "base_uri": "https://localhost:8080/",
          "height": 74
        },
        "id": "eex8CVyg_mro",
        "outputId": "7b09a9f3-aee9-4745-bf59-2f524d7d3169"
      },
      "outputs": [
        {
          "data": {
            "text/html": [
              "<style>#sk-container-id-10 {color: black;background-color: white;}#sk-container-id-10 pre{padding: 0;}#sk-container-id-10 div.sk-toggleable {background-color: white;}#sk-container-id-10 label.sk-toggleable__label {cursor: pointer;display: block;width: 100%;margin-bottom: 0;padding: 0.3em;box-sizing: border-box;text-align: center;}#sk-container-id-10 label.sk-toggleable__label-arrow:before {content: \"▸\";float: left;margin-right: 0.25em;color: #696969;}#sk-container-id-10 label.sk-toggleable__label-arrow:hover:before {color: black;}#sk-container-id-10 div.sk-estimator:hover label.sk-toggleable__label-arrow:before {color: black;}#sk-container-id-10 div.sk-toggleable__content {max-height: 0;max-width: 0;overflow: hidden;text-align: left;background-color: #f0f8ff;}#sk-container-id-10 div.sk-toggleable__content pre {margin: 0.2em;color: black;border-radius: 0.25em;background-color: #f0f8ff;}#sk-container-id-10 input.sk-toggleable__control:checked~div.sk-toggleable__content {max-height: 200px;max-width: 100%;overflow: auto;}#sk-container-id-10 input.sk-toggleable__control:checked~label.sk-toggleable__label-arrow:before {content: \"▾\";}#sk-container-id-10 div.sk-estimator input.sk-toggleable__control:checked~label.sk-toggleable__label {background-color: #d4ebff;}#sk-container-id-10 div.sk-label input.sk-toggleable__control:checked~label.sk-toggleable__label {background-color: #d4ebff;}#sk-container-id-10 input.sk-hidden--visually {border: 0;clip: rect(1px 1px 1px 1px);clip: rect(1px, 1px, 1px, 1px);height: 1px;margin: -1px;overflow: hidden;padding: 0;position: absolute;width: 1px;}#sk-container-id-10 div.sk-estimator {font-family: monospace;background-color: #f0f8ff;border: 1px dotted black;border-radius: 0.25em;box-sizing: border-box;margin-bottom: 0.5em;}#sk-container-id-10 div.sk-estimator:hover {background-color: #d4ebff;}#sk-container-id-10 div.sk-parallel-item::after {content: \"\";width: 100%;border-bottom: 1px solid gray;flex-grow: 1;}#sk-container-id-10 div.sk-label:hover label.sk-toggleable__label {background-color: #d4ebff;}#sk-container-id-10 div.sk-serial::before {content: \"\";position: absolute;border-left: 1px solid gray;box-sizing: border-box;top: 0;bottom: 0;left: 50%;z-index: 0;}#sk-container-id-10 div.sk-serial {display: flex;flex-direction: column;align-items: center;background-color: white;padding-right: 0.2em;padding-left: 0.2em;position: relative;}#sk-container-id-10 div.sk-item {position: relative;z-index: 1;}#sk-container-id-10 div.sk-parallel {display: flex;align-items: stretch;justify-content: center;background-color: white;position: relative;}#sk-container-id-10 div.sk-item::before, #sk-container-id-10 div.sk-parallel-item::before {content: \"\";position: absolute;border-left: 1px solid gray;box-sizing: border-box;top: 0;bottom: 0;left: 50%;z-index: -1;}#sk-container-id-10 div.sk-parallel-item {display: flex;flex-direction: column;z-index: 1;position: relative;background-color: white;}#sk-container-id-10 div.sk-parallel-item:first-child::after {align-self: flex-end;width: 50%;}#sk-container-id-10 div.sk-parallel-item:last-child::after {align-self: flex-start;width: 50%;}#sk-container-id-10 div.sk-parallel-item:only-child::after {width: 0;}#sk-container-id-10 div.sk-dashed-wrapped {border: 1px dashed gray;margin: 0 0.4em 0.5em 0.4em;box-sizing: border-box;padding-bottom: 0.4em;background-color: white;}#sk-container-id-10 div.sk-label label {font-family: monospace;font-weight: bold;display: inline-block;line-height: 1.2em;}#sk-container-id-10 div.sk-label-container {text-align: center;}#sk-container-id-10 div.sk-container {/* jupyter's `normalize.less` sets `[hidden] { display: none; }` but bootstrap.min.css set `[hidden] { display: none !important; }` so we also need the `!important` here to be able to override the default hidden behavior on the sphinx rendered scikit-learn.org. See: https://github.com/scikit-learn/scikit-learn/issues/21755 */display: inline-block !important;position: relative;}#sk-container-id-10 div.sk-text-repr-fallback {display: none;}</style><div id=\"sk-container-id-10\" class=\"sk-top-container\"><div class=\"sk-text-repr-fallback\"><pre>IsolationForest(max_samples=10, n_estimators=1, random_state=10)</pre><b>In a Jupyter environment, please rerun this cell to show the HTML representation or trust the notebook. <br />On GitHub, the HTML representation is unable to render, please try loading this page with nbviewer.org.</b></div><div class=\"sk-container\" hidden><div class=\"sk-item\"><div class=\"sk-estimator sk-toggleable\"><input class=\"sk-toggleable__control sk-hidden--visually\" id=\"sk-estimator-id-10\" type=\"checkbox\" checked><label for=\"sk-estimator-id-10\" class=\"sk-toggleable__label sk-toggleable__label-arrow\">IsolationForest</label><div class=\"sk-toggleable__content\"><pre>IsolationForest(max_samples=10, n_estimators=1, random_state=10)</pre></div></div></div></div></div>"
            ],
            "text/plain": [
              "IsolationForest(max_samples=10, n_estimators=1, random_state=10)"
            ]
          },
          "execution_count": 143,
          "metadata": {},
          "output_type": "execute_result"
        }
      ],
      "source": [
        "clf1.fit(df_new)"
      ]
    },
    {
      "cell_type": "code",
      "execution_count": null,
      "metadata": {
        "colab": {
          "base_uri": "https://localhost:8080/"
        },
        "id": "B52Vv-M9_mpu",
        "outputId": "044d51d8-6737-48d5-df92-ef92a95dac7d"
      },
      "outputs": [
        {
          "data": {
            "text/plain": [
              "array([ 1,  1,  1,  1, -1,  1,  1,  1,  1,  1])"
            ]
          },
          "execution_count": 145,
          "metadata": {},
          "output_type": "execute_result"
        }
      ],
      "source": [
        "predictions=clf.predict(df_new)\n",
        "predictions"
      ]
    },
    {
      "cell_type": "code",
      "execution_count": null,
      "metadata": {
        "colab": {
          "background_save": true,
          "base_uri": "https://localhost:8080/"
        },
        "id": "rstLfykr_mnj",
        "outputId": "038a1426-f9c1-45e1-9dfe-480f9d51689d"
      },
      "outputs": [
        {
          "data": {
            "text/plain": [
              "array([ 0.11818456,  0.0226846 , -0.19088017, -0.07425408,  0.11818456,\n",
              "        0.11818456, -0.19088017, -0.07425408,  0.0226846 ,  0.0226846 ])"
            ]
          },
          "execution_count": 148,
          "metadata": {},
          "output_type": "execute_result"
        }
      ],
      "source": [
        "clf1.decision_function(df_new) ## here you can set threshold to say what is anomaly and what is not something what we have below\n",
        "# anomaly_scores = iforest.decision_function(X)\n",
        "\n",
        "# # Step 4: Set Custom Threshold\n",
        "# custom_threshold = -0.1  # Adjust this threshold as needed\n",
        "\n",
        "# # Determine anomalies based on the custom threshold\n",
        "# anomalies = X[anomaly_scores < custom_threshold]"
      ]
    },
    {
      "cell_type": "code",
      "source": [
        "clf1.estimators_[0].apply(df_new)"
      ],
      "metadata": {
        "colab": {
          "base_uri": "https://localhost:8080/"
        },
        "id": "sft43K2wDznT",
        "outputId": "ff0658dc-4bc9-4483-967b-c82e056963c9"
      },
      "execution_count": 155,
      "outputs": [
        {
          "output_type": "stream",
          "name": "stderr",
          "text": [
            "/usr/local/lib/python3.10/dist-packages/sklearn/base.py:432: UserWarning: X has feature names, but ExtraTreeRegressor was fitted without feature names\n",
            "  warnings.warn(\n"
          ]
        },
        {
          "output_type": "execute_result",
          "data": {
            "text/plain": [
              "array([ 4,  5, 10,  8,  4,  4, 10,  6,  9,  9])"
            ]
          },
          "metadata": {},
          "execution_count": 155
        }
      ]
    },
    {
      "cell_type": "code",
      "execution_count": 152,
      "metadata": {
        "id": "5c5hoN97_mmA",
        "colab": {
          "base_uri": "https://localhost:8080/",
          "height": 597
        },
        "outputId": "467eab85-572a-4426-d8de-545297c3b6e5"
      },
      "outputs": [
        {
          "output_type": "execute_result",
          "data": {
            "text/plain": [
              "[Text(0.6666666666666666, 0.9, 'x[0] <= 81.973\\nsquared_error = 0.082\\nsamples = 10\\nvalue = 0.411'),\n",
              " Text(0.5555555555555556, 0.7, 'x[0] <= 37.602\\nsquared_error = 0.09\\nsamples = 8\\nvalue = 0.41'),\n",
              " Text(0.3333333333333333, 0.5, 'x[0] <= 32.15\\nsquared_error = 0.087\\nsamples = 5\\nvalue = 0.455'),\n",
              " Text(0.2222222222222222, 0.3, 'x[0] <= 25.1\\nsquared_error = 0.08\\nsamples = 4\\nvalue = 0.379'),\n",
              " Text(0.1111111111111111, 0.1, 'squared_error = 0.05\\nsamples = 3\\nvalue = 0.498'),\n",
              " Text(0.3333333333333333, 0.1, 'squared_error = 0.0\\nsamples = 1\\nvalue = 0.021'),\n",
              " Text(0.4444444444444444, 0.3, 'squared_error = 0.0\\nsamples = 1\\nvalue = 0.761'),\n",
              " Text(0.7777777777777778, 0.5, 'x[0] <= 54.417\\nsquared_error = 0.087\\nsamples = 3\\nvalue = 0.335'),\n",
              " Text(0.6666666666666666, 0.3, 'squared_error = 0.0\\nsamples = 1\\nvalue = 0.749'),\n",
              " Text(0.8888888888888888, 0.3, 'squared_error = 0.002\\nsamples = 2\\nvalue = 0.129'),\n",
              " Text(0.7777777777777778, 0.7, 'squared_error = 0.047\\nsamples = 2\\nvalue = 0.416')]"
            ]
          },
          "metadata": {},
          "execution_count": 152
        },
        {
          "output_type": "display_data",
          "data": {
            "text/plain": [
              "<Figure size 640x480 with 1 Axes>"
            ],
            "image/png": "[encoded data removed]"
          },
          "metadata": {}
        }
      ],
      "source": [
        "plot_tree(clf1.estimators_[0])"
      ]
    },
    {
      "cell_type": "code",
      "execution_count": null,
      "metadata": {
        "id": "yq-3z8IQ_mh9"
      },
      "outputs": [],
      "source": []
    },
    {
      "cell_type": "code",
      "execution_count": null,
      "metadata": {
        "id": "4nFIJnLf_mgR"
      },
      "outputs": [],
      "source": []
    },
    {
      "cell_type": "code",
      "execution_count": null,
      "metadata": {
        "id": "zsy3KH6r_meb"
      },
      "outputs": [],
      "source": []
    },
    {
      "cell_type": "code",
      "execution_count": null,
      "metadata": {
        "id": "QIR-UU6n_mcq"
      },
      "outputs": [],
      "source": []
    },
    {
      "cell_type": "code",
      "execution_count": null,
      "metadata": {
        "id": "a0E35Z2G_mad"
      },
      "outputs": [],
      "source": []
    },
    {
      "cell_type": "code",
      "execution_count": null,
      "metadata": {
        "id": "edppjvJE_mY4"
      },
      "outputs": [],
      "source": []
    },
    {
      "cell_type": "code",
      "execution_count": null,
      "metadata": {
        "id": "7tJeVAdM_mW6"
      },
      "outputs": [],
      "source": []
    },
    {
      "cell_type": "code",
      "execution_count": null,
      "metadata": {
        "id": "ejGljCOb_mVI"
      },
      "outputs": [],
      "source": []
    },
    {
      "cell_type": "code",
      "execution_count": null,
      "metadata": {
        "id": "PQtWEhrL_mTD"
      },
      "outputs": [],
      "source": []
    },
    {
      "cell_type": "code",
      "execution_count": null,
      "metadata": {
        "id": "OQ-aniaq_mRS"
      },
      "outputs": [],
      "source": []
    },
    {
      "cell_type": "code",
      "execution_count": null,
      "metadata": {
        "id": "mR-P3BU0_mPM"
      },
      "outputs": [],
      "source": []
    },
    {
      "cell_type": "code",
      "execution_count": null,
      "metadata": {
        "id": "9dZqS0SK_mNA"
      },
      "outputs": [],
      "source": []
    },
    {
      "cell_type": "code",
      "execution_count": null,
      "metadata": {
        "id": "I0kJRdkN_mLP"
      },
      "outputs": [],
      "source": []
    },
    {
      "cell_type": "code",
      "execution_count": null,
      "metadata": {
        "id": "h1rcvcTU94Mz"
      },
      "outputs": [],
      "source": []
    }
  ],
  "metadata": {
    "colab": {
      "provenance": [],
      "authorship_tag": "ABX9TyNhV/NTQGEUZtdJjlkTcsAa",
      "include_colab_link": true
    },
    "kernelspec": {
      "display_name": "Python 3",
      "name": "python3"
    },
    "language_info": {
      "name": "python"
    }
  },
  "nbformat": 4,
  "nbformat_minor": 0
}