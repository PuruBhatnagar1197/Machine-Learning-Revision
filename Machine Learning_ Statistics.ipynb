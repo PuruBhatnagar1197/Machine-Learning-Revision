{
 "cells": [
  {
   "cell_type": "code",
   "execution_count": 2,
   "id": "976d199d",
   "metadata": {},
   "outputs": [],
   "source": [
    "import numpy as np\n",
    "import pandas as pd\n",
    "import matplotlib.pyplot as plt\n",
    "from scipy.stats import norm"
   ]
  },
  {
   "cell_type": "code",
   "execution_count": 3,
   "id": "55980d2a",
   "metadata": {},
   "outputs": [
    {
     "data": {
      "image/png": "[encoded data removed]",
      "text/plain": [
       "<Figure size 640x480 with 1 Axes>"
      ]
     },
     "metadata": {},
     "output_type": "display_data"
    }
   ],
   "source": [
    "values=np.random.uniform(-10,10,100000)\n",
    "\n",
    "plt.hist(values,50)\n",
    "plt.show()"
   ]
  },
  {
   "cell_type": "markdown",
   "id": "f9d4f698",
   "metadata": {},
   "source": [
    "#### finding moment in the data"
   ]
  },
  {
   "cell_type": "code",
   "execution_count": 16,
   "id": "b20c7347",
   "metadata": {},
   "outputs": [
    {
     "data": {
      "text/plain": [
       "(array([  1.,   0.,   2.,   1.,   8.,   5.,  17.,  20.,  26.,  38.,  60.,\n",
       "         82.,  99., 121., 155., 222., 264., 308., 389., 401., 506., 551.,\n",
       "        559., 603., 588., 578., 549., 603., 534., 505., 424., 367., 294.,\n",
       "        277., 217., 159., 135., 110.,  78.,  50.,  27.,  22.,  22.,   8.,\n",
       "          2.,   7.,   2.,   2.,   1.,   1.]),\n",
       " array([ 8.08088509,  8.1576391 ,  8.23439312,  8.31114713,  8.38790115,\n",
       "         8.46465516,  8.54140917,  8.61816319,  8.6949172 ,  8.77167122,\n",
       "         8.84842523,  8.92517925,  9.00193326,  9.07868728,  9.15544129,\n",
       "         9.23219531,  9.30894932,  9.38570334,  9.46245735,  9.53921137,\n",
       "         9.61596538,  9.69271939,  9.76947341,  9.84622742,  9.92298144,\n",
       "         9.99973545, 10.07648947, 10.15324348, 10.2299975 , 10.30675151,\n",
       "        10.38350553, 10.46025954, 10.53701356, 10.61376757, 10.69052158,\n",
       "        10.7672756 , 10.84402961, 10.92078363, 10.99753764, 11.07429166,\n",
       "        11.15104567, 11.22779969, 11.3045537 , 11.38130772, 11.45806173,\n",
       "        11.53481575, 11.61156976, 11.68832378, 11.76507779, 11.8418318 ,\n",
       "        11.91858582]),\n",
       " <BarContainer object of 50 artists>)"
      ]
     },
     "execution_count": 16,
     "metadata": {},
     "output_type": "execute_result"
    },
    {
     "data": {
      "image/png": "[encoded data removed]",
      "text/plain": [
       "<Figure size 640x480 with 1 Axes>"
      ]
     },
     "metadata": {},
     "output_type": "display_data"
    }
   ],
   "source": [
    "val=np.random.normal(10,0.5,10000)\n",
    "plt.hist(val,50)"
   ]
  },
  {
   "cell_type": "code",
   "execution_count": 17,
   "id": "b6d29cf8",
   "metadata": {},
   "outputs": [
    {
     "data": {
      "text/plain": [
       "9.997016317654293"
      ]
     },
     "execution_count": 17,
     "metadata": {},
     "output_type": "execute_result"
    }
   ],
   "source": [
    "np.mean(val) ## first moment"
   ]
  },
  {
   "cell_type": "code",
   "execution_count": 18,
   "id": "81e61645",
   "metadata": {},
   "outputs": [
    {
     "data": {
      "text/plain": [
       "0.2530050947350241"
      ]
     },
     "execution_count": 18,
     "metadata": {},
     "output_type": "execute_result"
    }
   ],
   "source": [
    "np.var(val) ## seocnd moment"
   ]
  },
  {
   "cell_type": "code",
   "execution_count": 19,
   "id": "f8e8c4a0",
   "metadata": {},
   "outputs": [],
   "source": [
    "import scipy.stats as sp"
   ]
  },
  {
   "cell_type": "code",
   "execution_count": 20,
   "id": "1f2f2c4b",
   "metadata": {},
   "outputs": [
    {
     "data": {
      "text/plain": [
       "-0.023115095344530382"
      ]
     },
     "execution_count": 20,
     "metadata": {},
     "output_type": "execute_result"
    }
   ],
   "source": [
    "sp.skew(val) ### getting 3rd moment of the data and it is called skew if it is +ve then right skew if negative then left skew; it should be 0 for a normal distribution"
   ]
  },
  {
   "cell_type": "code",
   "execution_count": 21,
   "id": "95139819",
   "metadata": {},
   "outputs": [
    {
     "data": {
      "text/plain": [
       "-0.026878821469358716"
      ]
     },
     "execution_count": 21,
     "metadata": {},
     "output_type": "execute_result"
    }
   ],
   "source": [
    "sp.kurtosis(val)### getting 4th moment of the data and it is called kurtosis it should be 0 for a normal distribution"
   ]
  },
  {
   "cell_type": "markdown",
   "id": "2fb86cf5",
   "metadata": {},
   "source": [
    "#### Conditional Probability"
   ]
  },
  {
   "cell_type": "code",
   "execution_count": 36,
   "id": "11705bda",
   "metadata": {},
   "outputs": [],
   "source": [
    "from numpy import random\n",
    "random.seed(42)\n",
    "total={20:0,30:0,40:0,50:0,60:0,70:0}\n",
    "pur={20:0,30:0,40:0,50:0,60:0,70:0}\n",
    "total_pur=0\n",
    "for _ in range(10000):\n",
    "    aged=random.choice([20,30,40,50,60,70]) \n",
    "    purchase_p=float(aged)/100.0\n",
    "    total[aged]+=1\n",
    "    if random.random()<purchase_p:\n",
    "        total_pur+=1\n",
    "        pur[aged]+=1"
   ]
  },
  {
   "cell_type": "code",
   "execution_count": 37,
   "id": "3197c934",
   "metadata": {},
   "outputs": [
    {
     "data": {
      "text/plain": [
       "40"
      ]
     },
     "execution_count": 37,
     "metadata": {},
     "output_type": "execute_result"
    }
   ],
   "source": [
    "random.choice([20,30,40,50,60,70])"
   ]
  },
  {
   "cell_type": "code",
   "execution_count": 38,
   "id": "a752c3cd",
   "metadata": {},
   "outputs": [
    {
     "data": {
      "text/plain": [
       "{20: 1657, 30: 1664, 40: 1558, 50: 1704, 60: 1707, 70: 1710}"
      ]
     },
     "execution_count": 38,
     "metadata": {},
     "output_type": "execute_result"
    }
   ],
   "source": [
    "total"
   ]
  },
  {
   "cell_type": "code",
   "execution_count": 39,
   "id": "884e8946",
   "metadata": {},
   "outputs": [
    {
     "data": {
      "text/plain": [
       "{20: 367, 30: 500, 40: 632, 50: 872, 60: 1025, 70: 1193}"
      ]
     },
     "execution_count": 39,
     "metadata": {},
     "output_type": "execute_result"
    }
   ],
   "source": [
    "pur"
   ]
  },
  {
   "cell_type": "code",
   "execution_count": 40,
   "id": "b8496b93",
   "metadata": {},
   "outputs": [
    {
     "data": {
      "text/plain": [
       "4589"
      ]
     },
     "execution_count": 40,
     "metadata": {},
     "output_type": "execute_result"
    }
   ],
   "source": [
    "total_pur"
   ]
  },
  {
   "cell_type": "markdown",
   "id": "da9ba35b",
   "metadata": {},
   "source": [
    "lets compute: P(E|F): here E is the \"purchase\" F \"you are in 30's\". The probability someone in 30's and buying is just same as percentage of how many 30 year old bought something"
   ]
  },
  {
   "cell_type": "code",
   "execution_count": 42,
   "id": "5558ea72",
   "metadata": {},
   "outputs": [
    {
     "data": {
      "text/plain": [
       "0.3004807692307692"
      ]
     },
     "execution_count": 42,
     "metadata": {},
     "output_type": "execute_result"
    }
   ],
   "source": [
    "PEF=float(pur[30])/float(total[30]) # this is probability of e given F i.e. you are in your 30's and purchasing something which is same as saying ke out of complete 30's how many of them has purchases\n",
    "PEF"
   ]
  },
  {
   "cell_type": "code",
   "execution_count": 44,
   "id": "3be148f3",
   "metadata": {},
   "outputs": [
    {
     "data": {
      "text/plain": [
       "0.1664"
      ]
     },
     "execution_count": 44,
     "metadata": {},
     "output_type": "execute_result"
    }
   ],
   "source": [
    "### now using conventional way \n",
    "PF=float(total[30])/10000.0 ### PF is probability of being in 30's is toal of 30 divided by complete set\n",
    "PF"
   ]
  },
  {
   "cell_type": "code",
   "execution_count": 50,
   "id": "c4d1e7be",
   "metadata": {},
   "outputs": [
    {
     "data": {
      "text/plain": [
       "0.4589"
      ]
     },
     "execution_count": 50,
     "metadata": {},
     "output_type": "execute_result"
    }
   ],
   "source": [
    "PE=float(total_pur)/10000.0 ###PE is the probability of total purchases to the total people\n",
    "PE"
   ]
  },
  {
   "cell_type": "markdown",
   "id": "a92a686a",
   "metadata": {},
   "source": [
    "if E and F were independen, then P(E|F) should be equal to P(E) [because  then P(E,F)/P(F)=P(E) as P(E,F)=P(E)*P(F)] But it is not so as P(E)=0.45 and P(E|F)=0.30 so that means E and F are dependent\n",
    "so P(E,F) is different from P(E|F). P(E,F) would probability of both being in 30's and buying something, out of the total population: not just the population in their 30's"
   ]
  },
  {
   "cell_type": "code",
   "execution_count": 52,
   "id": "8dfb422b",
   "metadata": {},
   "outputs": [
    {
     "name": "stdout",
     "output_type": "stream",
     "text": [
      "P(30's purchase): 0.05\n"
     ]
    }
   ],
   "source": [
    "print(\"P(30's purchase):\", float(pur[30])/10000.0) ## see this is not equal to P(E)*P(F) which shows they are not mutually exclusive events they depends"
   ]
  },
  {
   "cell_type": "code",
   "execution_count": 53,
   "id": "e5e21ce7",
   "metadata": {},
   "outputs": [
    {
     "data": {
      "text/plain": [
       "0.3004807692307693"
      ]
     },
     "execution_count": 53,
     "metadata": {},
     "output_type": "execute_result"
    }
   ],
   "source": [
    "### using conditional probability formulae for  P(E|F)\n",
    "(float(pur[30])/10000.0)/PF ## this is same as  PEF"
   ]
  },
  {
   "cell_type": "code",
   "execution_count": null,
   "id": "ba5d17e7",
   "metadata": {},
   "outputs": [],
   "source": []
  },
  {
   "cell_type": "code",
   "execution_count": null,
   "id": "383f3627",
   "metadata": {},
   "outputs": [],
   "source": []
  },
  {
   "cell_type": "code",
   "execution_count": null,
   "id": "5fc95d08",
   "metadata": {},
   "outputs": [],
   "source": []
  }
 ],
 "metadata": {
  "kernelspec": {
   "display_name": "Python 3 (ipykernel)",
   "language": "python",
   "name": "python3"
  },
  "language_info": {
   "codemirror_mode": {
    "name": "ipython",
    "version": 3
   },
   "file_extension": ".py",
   "mimetype": "text/x-python",
   "name": "python",
   "nbconvert_exporter": "python",
   "pygments_lexer": "ipython3",
   "version": "3.10.9"
  }
 },
 "nbformat": 4,
 "nbformat_minor": 5
}
